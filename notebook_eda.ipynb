{
 "cells": [
  {
   "cell_type": "code",
   "execution_count": 1,
   "metadata": {},
   "outputs": [],
   "source": [
    "import pandas as pd\n",
    "\n",
    "#url = \"COVID_Cases_Restricted_Detailed_05112021_Part_1.parquet\"\n",
    "url = \"/Users/rishibhuva/Downloads/COVID_Cases_Restricted_Detailed_05112021_Part_1.parquet\"\n",
    "df1 = pd.read_parquet(url)"
   ]
  },
  {
   "cell_type": "code",
   "execution_count": 2,
   "metadata": {},
   "outputs": [
    {
     "name": "stdout",
     "output_type": "stream",
     "text": [
      "Current working directory: /Users/rishibhuva/sta160-final\n",
      "os.getcwd() returns an object of type: <class 'str'>\n"
     ]
    }
   ],
   "source": [
    "# Import the os module\n",
    "import os\n",
    "\n",
    "# Get the current working directory\n",
    "cwd = os.getcwd()\n",
    "\n",
    "# Print the current working directory\n",
    "print(\"Current working directory: {0}\".format(cwd))\n",
    "\n",
    "# Print the type of the returned object\n",
    "print(\"os.getcwd() returns an object of type: {0}\".format(type(cwd)))\n",
    "\n"
   ]
  },
  {
   "cell_type": "code",
   "execution_count": 3,
   "metadata": {},
   "outputs": [],
   "source": [
    "import pandas\n",
    "#url2 = \"COVID_Cases_Restricted_Detailed_05112021_Part_2-1.parquet\"\n",
    "url2 = \"/Users/rishibhuva/Downloads/COVID_Cases_Restricted_Detailed_05112021_Part_2.parquet\"\n",
    "df2 = pd.read_parquet(url2)"
   ]
  },
  {
   "cell_type": "code",
   "execution_count": 1,
   "metadata": {},
   "outputs": [],
   "source": [
    "import pandas as pd\n",
    "dfca = pd.read_csv('/Users/rishibhuva/Downloads/df_ca.csv', low_memory = False)"
   ]
  },
  {
   "cell_type": "code",
   "execution_count": 5,
   "metadata": {},
   "outputs": [
    {
     "data": {
      "text/html": [
       "<div>\n",
       "<style scoped>\n",
       "    .dataframe tbody tr th:only-of-type {\n",
       "        vertical-align: middle;\n",
       "    }\n",
       "\n",
       "    .dataframe tbody tr th {\n",
       "        vertical-align: top;\n",
       "    }\n",
       "\n",
       "    .dataframe thead th {\n",
       "        text-align: right;\n",
       "    }\n",
       "</style>\n",
       "<table border=\"1\" class=\"dataframe\">\n",
       "  <thead>\n",
       "    <tr style=\"text-align: right;\">\n",
       "      <th></th>\n",
       "      <th>Unnamed: 0</th>\n",
       "      <th>abdom_yn</th>\n",
       "      <th>abxchest_yn</th>\n",
       "      <th>acuterespdistress_yn</th>\n",
       "      <th>age_group</th>\n",
       "      <th>cdc_case_earliest_dt</th>\n",
       "      <th>cdc_report_dt</th>\n",
       "      <th>chills_yn</th>\n",
       "      <th>county_fips_code</th>\n",
       "      <th>cough_yn</th>\n",
       "      <th>...</th>\n",
       "      <th>onset_dt</th>\n",
       "      <th>pna_yn</th>\n",
       "      <th>pos_spec_dt</th>\n",
       "      <th>race_ethnicity_combined</th>\n",
       "      <th>res_county</th>\n",
       "      <th>res_state</th>\n",
       "      <th>runnose_yn</th>\n",
       "      <th>sex</th>\n",
       "      <th>sob_yn</th>\n",
       "      <th>sthroat_yn</th>\n",
       "    </tr>\n",
       "  </thead>\n",
       "  <tbody>\n",
       "    <tr>\n",
       "      <th>0</th>\n",
       "      <td>7062</td>\n",
       "      <td>Missing</td>\n",
       "      <td>Missing</td>\n",
       "      <td>Missing</td>\n",
       "      <td>0 - 9 Years</td>\n",
       "      <td>2020-10-05</td>\n",
       "      <td>NaN</td>\n",
       "      <td>Missing</td>\n",
       "      <td>6001.0</td>\n",
       "      <td>Missing</td>\n",
       "      <td>...</td>\n",
       "      <td>NaN</td>\n",
       "      <td>Missing</td>\n",
       "      <td>NaN</td>\n",
       "      <td>American Indian/Alaska Native, Non-Hispanic</td>\n",
       "      <td>ALAMEDA</td>\n",
       "      <td>CA</td>\n",
       "      <td>Missing</td>\n",
       "      <td>Female</td>\n",
       "      <td>Missing</td>\n",
       "      <td>Missing</td>\n",
       "    </tr>\n",
       "    <tr>\n",
       "      <th>1</th>\n",
       "      <td>7063</td>\n",
       "      <td>Missing</td>\n",
       "      <td>Missing</td>\n",
       "      <td>Missing</td>\n",
       "      <td>0 - 9 Years</td>\n",
       "      <td>2020-07-27</td>\n",
       "      <td>NaN</td>\n",
       "      <td>Missing</td>\n",
       "      <td>6001.0</td>\n",
       "      <td>Missing</td>\n",
       "      <td>...</td>\n",
       "      <td>NaN</td>\n",
       "      <td>Missing</td>\n",
       "      <td>NaN</td>\n",
       "      <td>American Indian/Alaska Native, Non-Hispanic</td>\n",
       "      <td>ALAMEDA</td>\n",
       "      <td>CA</td>\n",
       "      <td>Missing</td>\n",
       "      <td>Female</td>\n",
       "      <td>Missing</td>\n",
       "      <td>Missing</td>\n",
       "    </tr>\n",
       "    <tr>\n",
       "      <th>2</th>\n",
       "      <td>7064</td>\n",
       "      <td>Missing</td>\n",
       "      <td>Missing</td>\n",
       "      <td>Missing</td>\n",
       "      <td>0 - 9 Years</td>\n",
       "      <td>2020-12-22</td>\n",
       "      <td>NaN</td>\n",
       "      <td>Missing</td>\n",
       "      <td>6001.0</td>\n",
       "      <td>Missing</td>\n",
       "      <td>...</td>\n",
       "      <td>NaN</td>\n",
       "      <td>Missing</td>\n",
       "      <td>NaN</td>\n",
       "      <td>American Indian/Alaska Native, Non-Hispanic</td>\n",
       "      <td>ALAMEDA</td>\n",
       "      <td>CA</td>\n",
       "      <td>Missing</td>\n",
       "      <td>Female</td>\n",
       "      <td>Missing</td>\n",
       "      <td>Missing</td>\n",
       "    </tr>\n",
       "    <tr>\n",
       "      <th>3</th>\n",
       "      <td>7065</td>\n",
       "      <td>Missing</td>\n",
       "      <td>Missing</td>\n",
       "      <td>Missing</td>\n",
       "      <td>0 - 9 Years</td>\n",
       "      <td>2021-04-03</td>\n",
       "      <td>NaN</td>\n",
       "      <td>Missing</td>\n",
       "      <td>6001.0</td>\n",
       "      <td>Missing</td>\n",
       "      <td>...</td>\n",
       "      <td>NaN</td>\n",
       "      <td>Missing</td>\n",
       "      <td>NaN</td>\n",
       "      <td>American Indian/Alaska Native, Non-Hispanic</td>\n",
       "      <td>ALAMEDA</td>\n",
       "      <td>CA</td>\n",
       "      <td>Missing</td>\n",
       "      <td>Female</td>\n",
       "      <td>Missing</td>\n",
       "      <td>Missing</td>\n",
       "    </tr>\n",
       "    <tr>\n",
       "      <th>4</th>\n",
       "      <td>7066</td>\n",
       "      <td>Missing</td>\n",
       "      <td>Missing</td>\n",
       "      <td>Missing</td>\n",
       "      <td>0 - 9 Years</td>\n",
       "      <td>2020-11-13</td>\n",
       "      <td>NaN</td>\n",
       "      <td>Missing</td>\n",
       "      <td>6001.0</td>\n",
       "      <td>Missing</td>\n",
       "      <td>...</td>\n",
       "      <td>NaN</td>\n",
       "      <td>Missing</td>\n",
       "      <td>NaN</td>\n",
       "      <td>American Indian/Alaska Native, Non-Hispanic</td>\n",
       "      <td>ALAMEDA</td>\n",
       "      <td>CA</td>\n",
       "      <td>Missing</td>\n",
       "      <td>Female</td>\n",
       "      <td>Missing</td>\n",
       "      <td>Missing</td>\n",
       "    </tr>\n",
       "  </tbody>\n",
       "</table>\n",
       "<p>5 rows × 33 columns</p>\n",
       "</div>"
      ],
      "text/plain": [
       "   Unnamed: 0 abdom_yn abxchest_yn acuterespdistress_yn    age_group  \\\n",
       "0        7062  Missing     Missing              Missing  0 - 9 Years   \n",
       "1        7063  Missing     Missing              Missing  0 - 9 Years   \n",
       "2        7064  Missing     Missing              Missing  0 - 9 Years   \n",
       "3        7065  Missing     Missing              Missing  0 - 9 Years   \n",
       "4        7066  Missing     Missing              Missing  0 - 9 Years   \n",
       "\n",
       "  cdc_case_earliest_dt cdc_report_dt chills_yn  county_fips_code cough_yn  \\\n",
       "0           2020-10-05           NaN   Missing            6001.0  Missing   \n",
       "1           2020-07-27           NaN   Missing            6001.0  Missing   \n",
       "2           2020-12-22           NaN   Missing            6001.0  Missing   \n",
       "3           2021-04-03           NaN   Missing            6001.0  Missing   \n",
       "4           2020-11-13           NaN   Missing            6001.0  Missing   \n",
       "\n",
       "   ... onset_dt   pna_yn pos_spec_dt  \\\n",
       "0  ...      NaN  Missing         NaN   \n",
       "1  ...      NaN  Missing         NaN   \n",
       "2  ...      NaN  Missing         NaN   \n",
       "3  ...      NaN  Missing         NaN   \n",
       "4  ...      NaN  Missing         NaN   \n",
       "\n",
       "                       race_ethnicity_combined res_county res_state  \\\n",
       "0  American Indian/Alaska Native, Non-Hispanic    ALAMEDA        CA   \n",
       "1  American Indian/Alaska Native, Non-Hispanic    ALAMEDA        CA   \n",
       "2  American Indian/Alaska Native, Non-Hispanic    ALAMEDA        CA   \n",
       "3  American Indian/Alaska Native, Non-Hispanic    ALAMEDA        CA   \n",
       "4  American Indian/Alaska Native, Non-Hispanic    ALAMEDA        CA   \n",
       "\n",
       "  runnose_yn     sex   sob_yn sthroat_yn  \n",
       "0    Missing  Female  Missing    Missing  \n",
       "1    Missing  Female  Missing    Missing  \n",
       "2    Missing  Female  Missing    Missing  \n",
       "3    Missing  Female  Missing    Missing  \n",
       "4    Missing  Female  Missing    Missing  \n",
       "\n",
       "[5 rows x 33 columns]"
      ]
     },
     "execution_count": 5,
     "metadata": {},
     "output_type": "execute_result"
    }
   ],
   "source": [
    "dfca.head()"
   ]
  },
  {
   "cell_type": "code",
   "execution_count": 7,
   "metadata": {},
   "outputs": [
    {
     "data": {
      "text/plain": [
       "Text(0, 0.5, 'Death')"
      ]
     },
     "execution_count": 7,
     "metadata": {},
     "output_type": "execute_result"
    },
    {
     "data": {
      "image/png": "[encoded data removed]",
      "text/plain": [
       "<Figure size 432x288 with 1 Axes>"
      ]
     },
     "metadata": {},
     "output_type": "display_data"
    }
   ],
   "source": [
    "import seaborn as sns\n",
    "import matplotlib.pyplot as plt\n",
    "sns.set(style=\"darkgrid\")\n",
    "sns.countplot(y = 'death_yn', data= dfca)\n",
    "plt.title('Deaths from Covid in CA')\n",
    "plt.xlabel('Diagnosed with Covid')\n",
    "plt.ylabel('Death')"
   ]
  },
  {
   "cell_type": "code",
   "execution_count": 14,
   "metadata": {},
   "outputs": [
    {
     "data": {
      "text/plain": [
       "Text(0, 0.5, 'Sex')"
      ]
     },
     "execution_count": 14,
     "metadata": {},
     "output_type": "execute_result"
    },
    {
     "data": {
      "image/png": "[encoded data removed]",
      "text/plain": [
       "<Figure size 432x288 with 1 Axes>"
      ]
     },
     "metadata": {},
     "output_type": "display_data"
    }
   ],
   "source": [
    "import seaborn as sns\n",
    "import matplotlib.pyplot as plt\n",
    "sns.set(style=\"darkgrid\")\n",
    "sns.countplot(y = 'sex', data= dfca)\n",
    "plt.title('Male and Female Covid Diagnosis')\n",
    "plt.xlabel('Diagnosed with Covid')\n",
    "plt.ylabel('Sex')"
   ]
  },
  {
   "cell_type": "code",
   "execution_count": 15,
   "metadata": {},
   "outputs": [
    {
     "data": {
      "text/plain": [
       "Text(0, 0.5, 'Age Group')"
      ]
     },
     "execution_count": 15,
     "metadata": {},
     "output_type": "execute_result"
    },
    {
     "data": {
      "image/png": "[encoded data removed]",
      "text/plain": [
       "<Figure size 432x288 with 1 Axes>"
      ]
     },
     "metadata": {},
     "output_type": "display_data"
    }
   ],
   "source": [
    "import seaborn as sns\n",
    "import matplotlib.pyplot as plt\n",
    "sns.set(style=\"darkgrid\")\n",
    "sns.countplot(y = 'age_group', data= dfca)\n",
    "plt.title('Age Groups Diagnosed with Covid')\n",
    "plt.xlabel('Diagnosed with Covid')\n",
    "plt.ylabel('Age Group')"
   ]
  },
  {
   "cell_type": "code",
   "execution_count": 3,
   "metadata": {},
   "outputs": [
    {
     "data": {
      "text/plain": [
       "<AxesSubplot:>"
      ]
     },
     "execution_count": 3,
     "metadata": {},
     "output_type": "execute_result"
    },
    {
     "data": {
      "image/png": "[encoded data removed]",
      "text/plain": [
       "<Figure size 864x864 with 2 Axes>"
      ]
     },
     "metadata": {},
     "output_type": "display_data"
    }
   ],
   "source": [
    "plt.figure(figsize = (12,12))\n",
    "sns.heatmap(dfca.corr(),annot=True)"
   ]
  },
  {
   "cell_type": "code",
   "execution_count": 10,
   "metadata": {},
   "outputs": [
    {
     "data": {
      "text/plain": [
       "Text(0, 0.5, 'Neighborhood')"
      ]
     },
     "execution_count": 10,
     "metadata": {},
     "output_type": "execute_result"
    },
    {
     "data": {
      "image/png": "[encoded data removed]",
      "text/plain": [
       "<Figure size 432x288 with 1 Axes>"
      ]
     },
     "metadata": {},
     "output_type": "display_data"
    }
   ],
   "source": [
    "dfres = dfca['res_county'].value_counts()\n",
    "sns.countplot(y='res_county',data=dfca, order=dfres.iloc[:10].index).set_title('Top 10 Counties With Covid')\n",
    "plt.xlabel('Count')\n",
    "plt.ylabel('Neighborhood')"
   ]
  },
  {
   "cell_type": "code",
   "execution_count": 16,
   "metadata": {},
   "outputs": [
    {
     "data": {
      "text/plain": [
       "Text(0, 0.5, 'Health Care worker')"
      ]
     },
     "execution_count": 16,
     "metadata": {},
     "output_type": "execute_result"
    },
    {
     "data": {
      "image/png": "[encoded data removed]",
      "text/plain": [
       "<Figure size 432x288 with 1 Axes>"
      ]
     },
     "metadata": {},
     "output_type": "display_data"
    }
   ],
   "source": [
    "import seaborn as sns\n",
    "import matplotlib.pyplot as plt\n",
    "sns.set(style=\"darkgrid\")\n",
    "sns.countplot(y = 'hc_work_yn', data= dfca)\n",
    "plt.title('Healthcare Workers Diagnosed With Covid-19')\n",
    "plt.xlabel('Diagnosed with Covid')\n",
    "plt.ylabel('Health Care worker')"
   ]
  },
  {
   "cell_type": "code",
   "execution_count": 19,
   "metadata": {},
   "outputs": [
    {
     "data": {
      "text/plain": [
       "Text(0, 0.5, 'Hospitalized')"
      ]
     },
     "execution_count": 19,
     "metadata": {},
     "output_type": "execute_result"
    },
    {
     "data": {
      "image/png": "[encoded data removed]",
      "text/plain": [
       "<Figure size 432x288 with 1 Axes>"
      ]
     },
     "metadata": {},
     "output_type": "display_data"
    }
   ],
   "source": [
    "\n",
    "\n",
    "import seaborn as sns\n",
    "import matplotlib.pyplot as plt\n",
    "sns.set(style=\"darkgrid\")\n",
    "sns.countplot(y = 'hosp_yn', data= dfca)\n",
    "plt.title('Hospitalized due to Covid')\n",
    "plt.xlabel('Diagnosed with Covid')\n",
    "plt.ylabel('Hospitalized')"
   ]
  },
  {
   "cell_type": "code",
   "execution_count": null,
   "metadata": {},
   "outputs": [],
   "source": [
    "sns.catplot(x='sex', y='', data = tidydf, hue = 'room_type')\n",
    "plt.title(\"Listing Prices Based on Boroughs and Room Types\")\n",
    "plt.xlabel(\"Borough\")\n",
    "plt.ylabel(\"Price\")"
   ]
  },
  {
   "cell_type": "code",
   "execution_count": 21,
   "metadata": {},
   "outputs": [
    {
     "data": {
      "text/plain": [
       "Text(34.2387875, 0.5, 'Price')"
      ]
     },
     "execution_count": 21,
     "metadata": {},
     "output_type": "execute_result"
    },
    {
     "data": {
      "image/png": "[encoded data removed]",
      "text/plain": [
       "<Figure size 464.35x360 with 1 Axes>"
      ]
     },
     "metadata": {},
     "output_type": "display_data"
    }
   ],
   "source": []
  },
  {
   "cell_type": "code",
   "execution_count": 12,
   "metadata": {},
   "outputs": [
    {
     "ename": "ModuleNotFoundError",
     "evalue": "No module named 'plotly'",
     "output_type": "error",
     "traceback": [
      "\u001b[0;31m---------------------------------------------------------------------------\u001b[0m",
      "\u001b[0;31mModuleNotFoundError\u001b[0m                       Traceback (most recent call last)",
      "\u001b[0;32m<ipython-input-12-6ae3980a09fb>\u001b[0m in \u001b[0;36m<module>\u001b[0;34m\u001b[0m\n\u001b[0;32m----> 1\u001b[0;31m \u001b[0;32mimport\u001b[0m \u001b[0mplotly\u001b[0m\u001b[0;34m.\u001b[0m\u001b[0moffline\u001b[0m \u001b[0;32mas\u001b[0m \u001b[0mpy\u001b[0m\u001b[0;34m\u001b[0m\u001b[0;34m\u001b[0m\u001b[0m\n\u001b[0m\u001b[1;32m      2\u001b[0m \u001b[0;32mimport\u001b[0m \u001b[0mplotly\u001b[0m\u001b[0;34m.\u001b[0m\u001b[0mexpress\u001b[0m \u001b[0;32mas\u001b[0m \u001b[0mpx\u001b[0m\u001b[0;34m\u001b[0m\u001b[0;34m\u001b[0m\u001b[0m\n\u001b[1;32m      3\u001b[0m \u001b[0;34m\u001b[0m\u001b[0m\n\u001b[1;32m      4\u001b[0m \u001b[0mpx\u001b[0m\u001b[0;34m.\u001b[0m\u001b[0mhistogram\u001b[0m\u001b[0;34m(\u001b[0m\u001b[0mdfca\u001b[0m\u001b[0;34m,\u001b[0m \u001b[0mx\u001b[0m \u001b[0;34m=\u001b[0m \u001b[0;34m'death_yn'\u001b[0m\u001b[0;34m,\u001b[0m \u001b[0mtitle\u001b[0m \u001b[0;34m=\u001b[0m \u001b[0;34m'Price Distribution'\u001b[0m\u001b[0;34m)\u001b[0m\u001b[0;34m\u001b[0m\u001b[0;34m\u001b[0m\u001b[0m\n",
      "\u001b[0;31mModuleNotFoundError\u001b[0m: No module named 'plotly'"
     ]
    }
   ],
   "source": [
    "\n",
    "\n",
    "px.histogram(dfca, x = 'death_yn', title = 'Price Distribution')"
   ]
  },
  {
   "cell_type": "code",
   "execution_count": 4,
   "metadata": {},
   "outputs": [
    {
     "data": {
      "text/html": [
       "<div>\n",
       "<style scoped>\n",
       "    .dataframe tbody tr th:only-of-type {\n",
       "        vertical-align: middle;\n",
       "    }\n",
       "\n",
       "    .dataframe tbody tr th {\n",
       "        vertical-align: top;\n",
       "    }\n",
       "\n",
       "    .dataframe thead th {\n",
       "        text-align: right;\n",
       "    }\n",
       "</style>\n",
       "<table border=\"1\" class=\"dataframe\">\n",
       "  <thead>\n",
       "    <tr style=\"text-align: right;\">\n",
       "      <th></th>\n",
       "      <th>abdom_yn</th>\n",
       "      <th>abxchest_yn</th>\n",
       "      <th>acuterespdistress_yn</th>\n",
       "      <th>age_group</th>\n",
       "      <th>cdc_case_earliest_dt</th>\n",
       "      <th>cdc_report_dt</th>\n",
       "      <th>chills_yn</th>\n",
       "      <th>county_fips_code</th>\n",
       "      <th>cough_yn</th>\n",
       "      <th>current_status</th>\n",
       "      <th>...</th>\n",
       "      <th>onset_dt</th>\n",
       "      <th>pna_yn</th>\n",
       "      <th>pos_spec_dt</th>\n",
       "      <th>race_ethnicity_combined</th>\n",
       "      <th>res_county</th>\n",
       "      <th>res_state</th>\n",
       "      <th>runnose_yn</th>\n",
       "      <th>sex</th>\n",
       "      <th>sob_yn</th>\n",
       "      <th>sthroat_yn</th>\n",
       "    </tr>\n",
       "  </thead>\n",
       "  <tbody>\n",
       "    <tr>\n",
       "      <th>0</th>\n",
       "      <td>Missing</td>\n",
       "      <td>Missing</td>\n",
       "      <td>Missing</td>\n",
       "      <td>10 - 19 Years</td>\n",
       "      <td>2021-02-06</td>\n",
       "      <td>2021-02-06</td>\n",
       "      <td>Missing</td>\n",
       "      <td>45001</td>\n",
       "      <td>Missing</td>\n",
       "      <td>Laboratory-confirmed case</td>\n",
       "      <td>...</td>\n",
       "      <td>None</td>\n",
       "      <td>Missing</td>\n",
       "      <td>None</td>\n",
       "      <td>Unknown</td>\n",
       "      <td>ABBEVILLE</td>\n",
       "      <td>SC</td>\n",
       "      <td>Missing</td>\n",
       "      <td>Female</td>\n",
       "      <td>Missing</td>\n",
       "      <td>Missing</td>\n",
       "    </tr>\n",
       "    <tr>\n",
       "      <th>1</th>\n",
       "      <td>Missing</td>\n",
       "      <td>Missing</td>\n",
       "      <td>Missing</td>\n",
       "      <td>10 - 19 Years</td>\n",
       "      <td>2021-01-28</td>\n",
       "      <td>2021-01-28</td>\n",
       "      <td>Missing</td>\n",
       "      <td>45001</td>\n",
       "      <td>Missing</td>\n",
       "      <td>Laboratory-confirmed case</td>\n",
       "      <td>...</td>\n",
       "      <td>None</td>\n",
       "      <td>Missing</td>\n",
       "      <td>None</td>\n",
       "      <td>Unknown</td>\n",
       "      <td>ABBEVILLE</td>\n",
       "      <td>SC</td>\n",
       "      <td>Missing</td>\n",
       "      <td>Female</td>\n",
       "      <td>Missing</td>\n",
       "      <td>Missing</td>\n",
       "    </tr>\n",
       "    <tr>\n",
       "      <th>2</th>\n",
       "      <td>Missing</td>\n",
       "      <td>Missing</td>\n",
       "      <td>Missing</td>\n",
       "      <td>10 - 19 Years</td>\n",
       "      <td>2021-01-19</td>\n",
       "      <td>2021-01-19</td>\n",
       "      <td>Missing</td>\n",
       "      <td>45001</td>\n",
       "      <td>Missing</td>\n",
       "      <td>Laboratory-confirmed case</td>\n",
       "      <td>...</td>\n",
       "      <td>None</td>\n",
       "      <td>Missing</td>\n",
       "      <td>None</td>\n",
       "      <td>Unknown</td>\n",
       "      <td>ABBEVILLE</td>\n",
       "      <td>SC</td>\n",
       "      <td>Missing</td>\n",
       "      <td>Female</td>\n",
       "      <td>Missing</td>\n",
       "      <td>Missing</td>\n",
       "    </tr>\n",
       "    <tr>\n",
       "      <th>3</th>\n",
       "      <td>Missing</td>\n",
       "      <td>Missing</td>\n",
       "      <td>Missing</td>\n",
       "      <td>10 - 19 Years</td>\n",
       "      <td>2021-01-07</td>\n",
       "      <td>2021-01-07</td>\n",
       "      <td>Missing</td>\n",
       "      <td>45001</td>\n",
       "      <td>Missing</td>\n",
       "      <td>Laboratory-confirmed case</td>\n",
       "      <td>...</td>\n",
       "      <td>None</td>\n",
       "      <td>Missing</td>\n",
       "      <td>None</td>\n",
       "      <td>Unknown</td>\n",
       "      <td>ABBEVILLE</td>\n",
       "      <td>SC</td>\n",
       "      <td>Missing</td>\n",
       "      <td>Female</td>\n",
       "      <td>Missing</td>\n",
       "      <td>Missing</td>\n",
       "    </tr>\n",
       "    <tr>\n",
       "      <th>4</th>\n",
       "      <td>Missing</td>\n",
       "      <td>Missing</td>\n",
       "      <td>Missing</td>\n",
       "      <td>10 - 19 Years</td>\n",
       "      <td>2020-07-20</td>\n",
       "      <td>2020-07-20</td>\n",
       "      <td>Missing</td>\n",
       "      <td>45001</td>\n",
       "      <td>Missing</td>\n",
       "      <td>Laboratory-confirmed case</td>\n",
       "      <td>...</td>\n",
       "      <td>None</td>\n",
       "      <td>Missing</td>\n",
       "      <td>None</td>\n",
       "      <td>Unknown</td>\n",
       "      <td>ABBEVILLE</td>\n",
       "      <td>SC</td>\n",
       "      <td>Missing</td>\n",
       "      <td>Female</td>\n",
       "      <td>Missing</td>\n",
       "      <td>Missing</td>\n",
       "    </tr>\n",
       "    <tr>\n",
       "      <th>...</th>\n",
       "      <td>...</td>\n",
       "      <td>...</td>\n",
       "      <td>...</td>\n",
       "      <td>...</td>\n",
       "      <td>...</td>\n",
       "      <td>...</td>\n",
       "      <td>...</td>\n",
       "      <td>...</td>\n",
       "      <td>...</td>\n",
       "      <td>...</td>\n",
       "      <td>...</td>\n",
       "      <td>...</td>\n",
       "      <td>...</td>\n",
       "      <td>...</td>\n",
       "      <td>...</td>\n",
       "      <td>...</td>\n",
       "      <td>...</td>\n",
       "      <td>...</td>\n",
       "      <td>...</td>\n",
       "      <td>...</td>\n",
       "      <td>...</td>\n",
       "    </tr>\n",
       "    <tr>\n",
       "      <th>12999995</th>\n",
       "      <td>Missing</td>\n",
       "      <td>Missing</td>\n",
       "      <td>Missing</td>\n",
       "      <td>40 - 49 Years</td>\n",
       "      <td>2020-07-22</td>\n",
       "      <td>2020-07-22</td>\n",
       "      <td>Missing</td>\n",
       "      <td>40109</td>\n",
       "      <td>Missing</td>\n",
       "      <td>Laboratory-confirmed case</td>\n",
       "      <td>...</td>\n",
       "      <td>None</td>\n",
       "      <td>Missing</td>\n",
       "      <td>None</td>\n",
       "      <td>White, Non-Hispanic</td>\n",
       "      <td>OKLAHOMA</td>\n",
       "      <td>OK</td>\n",
       "      <td>Missing</td>\n",
       "      <td>Female</td>\n",
       "      <td>Missing</td>\n",
       "      <td>Missing</td>\n",
       "    </tr>\n",
       "    <tr>\n",
       "      <th>12999996</th>\n",
       "      <td>Missing</td>\n",
       "      <td>Missing</td>\n",
       "      <td>Missing</td>\n",
       "      <td>40 - 49 Years</td>\n",
       "      <td>2021-04-02</td>\n",
       "      <td>2021-04-02</td>\n",
       "      <td>Missing</td>\n",
       "      <td>40109</td>\n",
       "      <td>Missing</td>\n",
       "      <td>Laboratory-confirmed case</td>\n",
       "      <td>...</td>\n",
       "      <td>None</td>\n",
       "      <td>Missing</td>\n",
       "      <td>None</td>\n",
       "      <td>White, Non-Hispanic</td>\n",
       "      <td>OKLAHOMA</td>\n",
       "      <td>OK</td>\n",
       "      <td>Missing</td>\n",
       "      <td>Female</td>\n",
       "      <td>Missing</td>\n",
       "      <td>Missing</td>\n",
       "    </tr>\n",
       "    <tr>\n",
       "      <th>12999997</th>\n",
       "      <td>Missing</td>\n",
       "      <td>Missing</td>\n",
       "      <td>Missing</td>\n",
       "      <td>40 - 49 Years</td>\n",
       "      <td>2020-10-30</td>\n",
       "      <td>2020-10-30</td>\n",
       "      <td>Missing</td>\n",
       "      <td>40109</td>\n",
       "      <td>Missing</td>\n",
       "      <td>Laboratory-confirmed case</td>\n",
       "      <td>...</td>\n",
       "      <td>None</td>\n",
       "      <td>Missing</td>\n",
       "      <td>None</td>\n",
       "      <td>White, Non-Hispanic</td>\n",
       "      <td>OKLAHOMA</td>\n",
       "      <td>OK</td>\n",
       "      <td>Missing</td>\n",
       "      <td>Female</td>\n",
       "      <td>Missing</td>\n",
       "      <td>Missing</td>\n",
       "    </tr>\n",
       "    <tr>\n",
       "      <th>12999998</th>\n",
       "      <td>Missing</td>\n",
       "      <td>Missing</td>\n",
       "      <td>Missing</td>\n",
       "      <td>40 - 49 Years</td>\n",
       "      <td>2020-09-18</td>\n",
       "      <td>2020-09-18</td>\n",
       "      <td>Missing</td>\n",
       "      <td>40109</td>\n",
       "      <td>Missing</td>\n",
       "      <td>Laboratory-confirmed case</td>\n",
       "      <td>...</td>\n",
       "      <td>None</td>\n",
       "      <td>Missing</td>\n",
       "      <td>None</td>\n",
       "      <td>White, Non-Hispanic</td>\n",
       "      <td>OKLAHOMA</td>\n",
       "      <td>OK</td>\n",
       "      <td>Missing</td>\n",
       "      <td>Female</td>\n",
       "      <td>Missing</td>\n",
       "      <td>Missing</td>\n",
       "    </tr>\n",
       "    <tr>\n",
       "      <th>12999999</th>\n",
       "      <td>Missing</td>\n",
       "      <td>Missing</td>\n",
       "      <td>Missing</td>\n",
       "      <td>40 - 49 Years</td>\n",
       "      <td>2021-03-08</td>\n",
       "      <td>2021-03-08</td>\n",
       "      <td>Missing</td>\n",
       "      <td>40109</td>\n",
       "      <td>Missing</td>\n",
       "      <td>Probable Case</td>\n",
       "      <td>...</td>\n",
       "      <td>None</td>\n",
       "      <td>Missing</td>\n",
       "      <td>None</td>\n",
       "      <td>White, Non-Hispanic</td>\n",
       "      <td>OKLAHOMA</td>\n",
       "      <td>OK</td>\n",
       "      <td>Missing</td>\n",
       "      <td>Female</td>\n",
       "      <td>Missing</td>\n",
       "      <td>Missing</td>\n",
       "    </tr>\n",
       "  </tbody>\n",
       "</table>\n",
       "<p>13000000 rows × 32 columns</p>\n",
       "</div>"
      ],
      "text/plain": [
       "         abdom_yn abxchest_yn acuterespdistress_yn      age_group  \\\n",
       "0         Missing     Missing              Missing  10 - 19 Years   \n",
       "1         Missing     Missing              Missing  10 - 19 Years   \n",
       "2         Missing     Missing              Missing  10 - 19 Years   \n",
       "3         Missing     Missing              Missing  10 - 19 Years   \n",
       "4         Missing     Missing              Missing  10 - 19 Years   \n",
       "...           ...         ...                  ...            ...   \n",
       "12999995  Missing     Missing              Missing  40 - 49 Years   \n",
       "12999996  Missing     Missing              Missing  40 - 49 Years   \n",
       "12999997  Missing     Missing              Missing  40 - 49 Years   \n",
       "12999998  Missing     Missing              Missing  40 - 49 Years   \n",
       "12999999  Missing     Missing              Missing  40 - 49 Years   \n",
       "\n",
       "         cdc_case_earliest_dt cdc_report_dt chills_yn county_fips_code  \\\n",
       "0                  2021-02-06    2021-02-06   Missing            45001   \n",
       "1                  2021-01-28    2021-01-28   Missing            45001   \n",
       "2                  2021-01-19    2021-01-19   Missing            45001   \n",
       "3                  2021-01-07    2021-01-07   Missing            45001   \n",
       "4                  2020-07-20    2020-07-20   Missing            45001   \n",
       "...                       ...           ...       ...              ...   \n",
       "12999995           2020-07-22    2020-07-22   Missing            40109   \n",
       "12999996           2021-04-02    2021-04-02   Missing            40109   \n",
       "12999997           2020-10-30    2020-10-30   Missing            40109   \n",
       "12999998           2020-09-18    2020-09-18   Missing            40109   \n",
       "12999999           2021-03-08    2021-03-08   Missing            40109   \n",
       "\n",
       "         cough_yn             current_status  ... onset_dt   pna_yn  \\\n",
       "0         Missing  Laboratory-confirmed case  ...     None  Missing   \n",
       "1         Missing  Laboratory-confirmed case  ...     None  Missing   \n",
       "2         Missing  Laboratory-confirmed case  ...     None  Missing   \n",
       "3         Missing  Laboratory-confirmed case  ...     None  Missing   \n",
       "4         Missing  Laboratory-confirmed case  ...     None  Missing   \n",
       "...           ...                        ...  ...      ...      ...   \n",
       "12999995  Missing  Laboratory-confirmed case  ...     None  Missing   \n",
       "12999996  Missing  Laboratory-confirmed case  ...     None  Missing   \n",
       "12999997  Missing  Laboratory-confirmed case  ...     None  Missing   \n",
       "12999998  Missing  Laboratory-confirmed case  ...     None  Missing   \n",
       "12999999  Missing              Probable Case  ...     None  Missing   \n",
       "\n",
       "         pos_spec_dt race_ethnicity_combined res_county res_state runnose_yn  \\\n",
       "0               None                 Unknown  ABBEVILLE        SC    Missing   \n",
       "1               None                 Unknown  ABBEVILLE        SC    Missing   \n",
       "2               None                 Unknown  ABBEVILLE        SC    Missing   \n",
       "3               None                 Unknown  ABBEVILLE        SC    Missing   \n",
       "4               None                 Unknown  ABBEVILLE        SC    Missing   \n",
       "...              ...                     ...        ...       ...        ...   \n",
       "12999995        None     White, Non-Hispanic   OKLAHOMA        OK    Missing   \n",
       "12999996        None     White, Non-Hispanic   OKLAHOMA        OK    Missing   \n",
       "12999997        None     White, Non-Hispanic   OKLAHOMA        OK    Missing   \n",
       "12999998        None     White, Non-Hispanic   OKLAHOMA        OK    Missing   \n",
       "12999999        None     White, Non-Hispanic   OKLAHOMA        OK    Missing   \n",
       "\n",
       "             sex   sob_yn sthroat_yn  \n",
       "0         Female  Missing    Missing  \n",
       "1         Female  Missing    Missing  \n",
       "2         Female  Missing    Missing  \n",
       "3         Female  Missing    Missing  \n",
       "4         Female  Missing    Missing  \n",
       "...          ...      ...        ...  \n",
       "12999995  Female  Missing    Missing  \n",
       "12999996  Female  Missing    Missing  \n",
       "12999997  Female  Missing    Missing  \n",
       "12999998  Female  Missing    Missing  \n",
       "12999999  Female  Missing    Missing  \n",
       "\n",
       "[13000000 rows x 32 columns]"
      ]
     },
     "execution_count": 4,
     "metadata": {},
     "output_type": "execute_result"
    }
   ],
   "source": [
    "df1"
   ]
  },
  {
   "cell_type": "code",
   "execution_count": null,
   "metadata": {},
   "outputs": [],
   "source": []
  },
  {
   "cell_type": "code",
   "execution_count": 8,
   "metadata": {},
   "outputs": [
    {
     "data": {
      "text/html": [
       "<div>\n",
       "<style scoped>\n",
       "    .dataframe tbody tr th:only-of-type {\n",
       "        vertical-align: middle;\n",
       "    }\n",
       "\n",
       "    .dataframe tbody tr th {\n",
       "        vertical-align: top;\n",
       "    }\n",
       "\n",
       "    .dataframe thead th {\n",
       "        text-align: right;\n",
       "    }\n",
       "</style>\n",
       "<table border=\"1\" class=\"dataframe\">\n",
       "  <thead>\n",
       "    <tr style=\"text-align: right;\">\n",
       "      <th></th>\n",
       "      <th>abdom_yn</th>\n",
       "      <th>abxchest_yn</th>\n",
       "      <th>acuterespdistress_yn</th>\n",
       "      <th>age_group</th>\n",
       "      <th>cdc_case_earliest_dt</th>\n",
       "      <th>cdc_report_dt</th>\n",
       "      <th>chills_yn</th>\n",
       "      <th>county_fips_code</th>\n",
       "      <th>cough_yn</th>\n",
       "      <th>current_status</th>\n",
       "      <th>...</th>\n",
       "      <th>onset_dt</th>\n",
       "      <th>pna_yn</th>\n",
       "      <th>pos_spec_dt</th>\n",
       "      <th>race_ethnicity_combined</th>\n",
       "      <th>res_county</th>\n",
       "      <th>res_state</th>\n",
       "      <th>runnose_yn</th>\n",
       "      <th>sex</th>\n",
       "      <th>sob_yn</th>\n",
       "      <th>sthroat_yn</th>\n",
       "    </tr>\n",
       "  </thead>\n",
       "  <tbody>\n",
       "    <tr>\n",
       "      <th>0</th>\n",
       "      <td>Missing</td>\n",
       "      <td>Missing</td>\n",
       "      <td>Missing</td>\n",
       "      <td>40 - 49 Years</td>\n",
       "      <td>2020-10-02</td>\n",
       "      <td>2020-10-02</td>\n",
       "      <td>Missing</td>\n",
       "      <td>40109</td>\n",
       "      <td>Missing</td>\n",
       "      <td>Laboratory-confirmed case</td>\n",
       "      <td>...</td>\n",
       "      <td>None</td>\n",
       "      <td>Missing</td>\n",
       "      <td>None</td>\n",
       "      <td>White, Non-Hispanic</td>\n",
       "      <td>OKLAHOMA</td>\n",
       "      <td>OK</td>\n",
       "      <td>Missing</td>\n",
       "      <td>Female</td>\n",
       "      <td>Missing</td>\n",
       "      <td>Missing</td>\n",
       "    </tr>\n",
       "    <tr>\n",
       "      <th>1</th>\n",
       "      <td>Missing</td>\n",
       "      <td>Missing</td>\n",
       "      <td>Missing</td>\n",
       "      <td>40 - 49 Years</td>\n",
       "      <td>2020-11-10</td>\n",
       "      <td>2020-11-10</td>\n",
       "      <td>Missing</td>\n",
       "      <td>40109</td>\n",
       "      <td>Missing</td>\n",
       "      <td>Probable Case</td>\n",
       "      <td>...</td>\n",
       "      <td>None</td>\n",
       "      <td>Missing</td>\n",
       "      <td>None</td>\n",
       "      <td>White, Non-Hispanic</td>\n",
       "      <td>OKLAHOMA</td>\n",
       "      <td>OK</td>\n",
       "      <td>Missing</td>\n",
       "      <td>Female</td>\n",
       "      <td>Missing</td>\n",
       "      <td>Missing</td>\n",
       "    </tr>\n",
       "    <tr>\n",
       "      <th>2</th>\n",
       "      <td>Missing</td>\n",
       "      <td>Missing</td>\n",
       "      <td>Missing</td>\n",
       "      <td>40 - 49 Years</td>\n",
       "      <td>2021-01-17</td>\n",
       "      <td>2021-01-17</td>\n",
       "      <td>Missing</td>\n",
       "      <td>40109</td>\n",
       "      <td>Missing</td>\n",
       "      <td>Probable Case</td>\n",
       "      <td>...</td>\n",
       "      <td>None</td>\n",
       "      <td>Missing</td>\n",
       "      <td>None</td>\n",
       "      <td>White, Non-Hispanic</td>\n",
       "      <td>OKLAHOMA</td>\n",
       "      <td>OK</td>\n",
       "      <td>Missing</td>\n",
       "      <td>Female</td>\n",
       "      <td>Missing</td>\n",
       "      <td>Missing</td>\n",
       "    </tr>\n",
       "    <tr>\n",
       "      <th>3</th>\n",
       "      <td>Missing</td>\n",
       "      <td>Missing</td>\n",
       "      <td>Missing</td>\n",
       "      <td>40 - 49 Years</td>\n",
       "      <td>2020-11-27</td>\n",
       "      <td>2020-11-27</td>\n",
       "      <td>Missing</td>\n",
       "      <td>40109</td>\n",
       "      <td>Missing</td>\n",
       "      <td>Probable Case</td>\n",
       "      <td>...</td>\n",
       "      <td>None</td>\n",
       "      <td>Missing</td>\n",
       "      <td>None</td>\n",
       "      <td>White, Non-Hispanic</td>\n",
       "      <td>OKLAHOMA</td>\n",
       "      <td>OK</td>\n",
       "      <td>Missing</td>\n",
       "      <td>Female</td>\n",
       "      <td>Missing</td>\n",
       "      <td>Missing</td>\n",
       "    </tr>\n",
       "    <tr>\n",
       "      <th>4</th>\n",
       "      <td>Missing</td>\n",
       "      <td>Missing</td>\n",
       "      <td>Missing</td>\n",
       "      <td>40 - 49 Years</td>\n",
       "      <td>2020-10-23</td>\n",
       "      <td>2020-10-23</td>\n",
       "      <td>Missing</td>\n",
       "      <td>40109</td>\n",
       "      <td>Missing</td>\n",
       "      <td>Laboratory-confirmed case</td>\n",
       "      <td>...</td>\n",
       "      <td>None</td>\n",
       "      <td>Missing</td>\n",
       "      <td>None</td>\n",
       "      <td>White, Non-Hispanic</td>\n",
       "      <td>OKLAHOMA</td>\n",
       "      <td>OK</td>\n",
       "      <td>Missing</td>\n",
       "      <td>Female</td>\n",
       "      <td>Missing</td>\n",
       "      <td>Missing</td>\n",
       "    </tr>\n",
       "    <tr>\n",
       "      <th>...</th>\n",
       "      <td>...</td>\n",
       "      <td>...</td>\n",
       "      <td>...</td>\n",
       "      <td>...</td>\n",
       "      <td>...</td>\n",
       "      <td>...</td>\n",
       "      <td>...</td>\n",
       "      <td>...</td>\n",
       "      <td>...</td>\n",
       "      <td>...</td>\n",
       "      <td>...</td>\n",
       "      <td>...</td>\n",
       "      <td>...</td>\n",
       "      <td>...</td>\n",
       "      <td>...</td>\n",
       "      <td>...</td>\n",
       "      <td>...</td>\n",
       "      <td>...</td>\n",
       "      <td>...</td>\n",
       "      <td>...</td>\n",
       "      <td>...</td>\n",
       "    </tr>\n",
       "    <tr>\n",
       "      <th>12120917</th>\n",
       "      <td>Missing</td>\n",
       "      <td>Missing</td>\n",
       "      <td>Missing</td>\n",
       "      <td>20 - 29 Years</td>\n",
       "      <td>2020-12-01</td>\n",
       "      <td>2020-12-01</td>\n",
       "      <td>Missing</td>\n",
       "      <td>46137</td>\n",
       "      <td>Missing</td>\n",
       "      <td>Laboratory-confirmed case</td>\n",
       "      <td>...</td>\n",
       "      <td>None</td>\n",
       "      <td>Missing</td>\n",
       "      <td>None</td>\n",
       "      <td>American Indian/Alaska Native, Non-Hispanic</td>\n",
       "      <td>ZIEBACH</td>\n",
       "      <td>SD</td>\n",
       "      <td>Missing</td>\n",
       "      <td>Female</td>\n",
       "      <td>Missing</td>\n",
       "      <td>Missing</td>\n",
       "    </tr>\n",
       "    <tr>\n",
       "      <th>12120918</th>\n",
       "      <td>Missing</td>\n",
       "      <td>Missing</td>\n",
       "      <td>Missing</td>\n",
       "      <td>20 - 29 Years</td>\n",
       "      <td>2020-10-20</td>\n",
       "      <td>2021-01-06</td>\n",
       "      <td>Missing</td>\n",
       "      <td>46137</td>\n",
       "      <td>Missing</td>\n",
       "      <td>Laboratory-confirmed case</td>\n",
       "      <td>...</td>\n",
       "      <td>2020-10-20</td>\n",
       "      <td>Missing</td>\n",
       "      <td>None</td>\n",
       "      <td>American Indian/Alaska Native, Non-Hispanic</td>\n",
       "      <td>ZIEBACH</td>\n",
       "      <td>SD</td>\n",
       "      <td>Missing</td>\n",
       "      <td>Female</td>\n",
       "      <td>Missing</td>\n",
       "      <td>Missing</td>\n",
       "    </tr>\n",
       "    <tr>\n",
       "      <th>12120919</th>\n",
       "      <td>Missing</td>\n",
       "      <td>Missing</td>\n",
       "      <td>Missing</td>\n",
       "      <td>20 - 29 Years</td>\n",
       "      <td>2020-07-27</td>\n",
       "      <td>2020-12-01</td>\n",
       "      <td>Missing</td>\n",
       "      <td>46137</td>\n",
       "      <td>Missing</td>\n",
       "      <td>Laboratory-confirmed case</td>\n",
       "      <td>...</td>\n",
       "      <td>2020-07-27</td>\n",
       "      <td>Missing</td>\n",
       "      <td>None</td>\n",
       "      <td>American Indian/Alaska Native, Non-Hispanic</td>\n",
       "      <td>ZIEBACH</td>\n",
       "      <td>SD</td>\n",
       "      <td>Missing</td>\n",
       "      <td>Female</td>\n",
       "      <td>Missing</td>\n",
       "      <td>Missing</td>\n",
       "    </tr>\n",
       "    <tr>\n",
       "      <th>12120920</th>\n",
       "      <td>Missing</td>\n",
       "      <td>Missing</td>\n",
       "      <td>Missing</td>\n",
       "      <td>20 - 29 Years</td>\n",
       "      <td>2020-07-25</td>\n",
       "      <td>2020-12-01</td>\n",
       "      <td>Missing</td>\n",
       "      <td>46137</td>\n",
       "      <td>Missing</td>\n",
       "      <td>Laboratory-confirmed case</td>\n",
       "      <td>...</td>\n",
       "      <td>2020-07-25</td>\n",
       "      <td>Missing</td>\n",
       "      <td>None</td>\n",
       "      <td>American Indian/Alaska Native, Non-Hispanic</td>\n",
       "      <td>ZIEBACH</td>\n",
       "      <td>SD</td>\n",
       "      <td>Missing</td>\n",
       "      <td>Female</td>\n",
       "      <td>Missing</td>\n",
       "      <td>Missing</td>\n",
       "    </tr>\n",
       "    <tr>\n",
       "      <th>12120921</th>\n",
       "      <td>Missing</td>\n",
       "      <td>Missing</td>\n",
       "      <td>Missing</td>\n",
       "      <td>20 - 29 Years</td>\n",
       "      <td>2020-11-06</td>\n",
       "      <td>2021-01-06</td>\n",
       "      <td>Missing</td>\n",
       "      <td>46137</td>\n",
       "      <td>Missing</td>\n",
       "      <td>Laboratory-confirmed case</td>\n",
       "      <td>...</td>\n",
       "      <td>2020-11-06</td>\n",
       "      <td>Missing</td>\n",
       "      <td>None</td>\n",
       "      <td>American Indian/Alaska Native, Non-Hispanic</td>\n",
       "      <td>ZIEBACH</td>\n",
       "      <td>SD</td>\n",
       "      <td>Missing</td>\n",
       "      <td>Female</td>\n",
       "      <td>Missing</td>\n",
       "      <td>Missing</td>\n",
       "    </tr>\n",
       "  </tbody>\n",
       "</table>\n",
       "<p>12120922 rows × 32 columns</p>\n",
       "</div>"
      ],
      "text/plain": [
       "         abdom_yn abxchest_yn acuterespdistress_yn      age_group  \\\n",
       "0         Missing     Missing              Missing  40 - 49 Years   \n",
       "1         Missing     Missing              Missing  40 - 49 Years   \n",
       "2         Missing     Missing              Missing  40 - 49 Years   \n",
       "3         Missing     Missing              Missing  40 - 49 Years   \n",
       "4         Missing     Missing              Missing  40 - 49 Years   \n",
       "...           ...         ...                  ...            ...   \n",
       "12120917  Missing     Missing              Missing  20 - 29 Years   \n",
       "12120918  Missing     Missing              Missing  20 - 29 Years   \n",
       "12120919  Missing     Missing              Missing  20 - 29 Years   \n",
       "12120920  Missing     Missing              Missing  20 - 29 Years   \n",
       "12120921  Missing     Missing              Missing  20 - 29 Years   \n",
       "\n",
       "         cdc_case_earliest_dt cdc_report_dt chills_yn county_fips_code  \\\n",
       "0                  2020-10-02    2020-10-02   Missing            40109   \n",
       "1                  2020-11-10    2020-11-10   Missing            40109   \n",
       "2                  2021-01-17    2021-01-17   Missing            40109   \n",
       "3                  2020-11-27    2020-11-27   Missing            40109   \n",
       "4                  2020-10-23    2020-10-23   Missing            40109   \n",
       "...                       ...           ...       ...              ...   \n",
       "12120917           2020-12-01    2020-12-01   Missing            46137   \n",
       "12120918           2020-10-20    2021-01-06   Missing            46137   \n",
       "12120919           2020-07-27    2020-12-01   Missing            46137   \n",
       "12120920           2020-07-25    2020-12-01   Missing            46137   \n",
       "12120921           2020-11-06    2021-01-06   Missing            46137   \n",
       "\n",
       "         cough_yn             current_status  ...    onset_dt   pna_yn  \\\n",
       "0         Missing  Laboratory-confirmed case  ...        None  Missing   \n",
       "1         Missing              Probable Case  ...        None  Missing   \n",
       "2         Missing              Probable Case  ...        None  Missing   \n",
       "3         Missing              Probable Case  ...        None  Missing   \n",
       "4         Missing  Laboratory-confirmed case  ...        None  Missing   \n",
       "...           ...                        ...  ...         ...      ...   \n",
       "12120917  Missing  Laboratory-confirmed case  ...        None  Missing   \n",
       "12120918  Missing  Laboratory-confirmed case  ...  2020-10-20  Missing   \n",
       "12120919  Missing  Laboratory-confirmed case  ...  2020-07-27  Missing   \n",
       "12120920  Missing  Laboratory-confirmed case  ...  2020-07-25  Missing   \n",
       "12120921  Missing  Laboratory-confirmed case  ...  2020-11-06  Missing   \n",
       "\n",
       "         pos_spec_dt                      race_ethnicity_combined res_county  \\\n",
       "0               None                          White, Non-Hispanic   OKLAHOMA   \n",
       "1               None                          White, Non-Hispanic   OKLAHOMA   \n",
       "2               None                          White, Non-Hispanic   OKLAHOMA   \n",
       "3               None                          White, Non-Hispanic   OKLAHOMA   \n",
       "4               None                          White, Non-Hispanic   OKLAHOMA   \n",
       "...              ...                                          ...        ...   \n",
       "12120917        None  American Indian/Alaska Native, Non-Hispanic    ZIEBACH   \n",
       "12120918        None  American Indian/Alaska Native, Non-Hispanic    ZIEBACH   \n",
       "12120919        None  American Indian/Alaska Native, Non-Hispanic    ZIEBACH   \n",
       "12120920        None  American Indian/Alaska Native, Non-Hispanic    ZIEBACH   \n",
       "12120921        None  American Indian/Alaska Native, Non-Hispanic    ZIEBACH   \n",
       "\n",
       "         res_state runnose_yn     sex   sob_yn sthroat_yn  \n",
       "0               OK    Missing  Female  Missing    Missing  \n",
       "1               OK    Missing  Female  Missing    Missing  \n",
       "2               OK    Missing  Female  Missing    Missing  \n",
       "3               OK    Missing  Female  Missing    Missing  \n",
       "4               OK    Missing  Female  Missing    Missing  \n",
       "...            ...        ...     ...      ...        ...  \n",
       "12120917        SD    Missing  Female  Missing    Missing  \n",
       "12120918        SD    Missing  Female  Missing    Missing  \n",
       "12120919        SD    Missing  Female  Missing    Missing  \n",
       "12120920        SD    Missing  Female  Missing    Missing  \n",
       "12120921        SD    Missing  Female  Missing    Missing  \n",
       "\n",
       "[12120922 rows x 32 columns]"
      ]
     },
     "execution_count": 8,
     "metadata": {},
     "output_type": "execute_result"
    }
   ],
   "source": [
    "df2"
   ]
  },
  {
   "cell_type": "code",
   "execution_count": 5,
   "metadata": {},
   "outputs": [],
   "source": [
    "df = pd.concat([df1, df2], ignore_index=True)"
   ]
  },
  {
   "cell_type": "code",
   "execution_count": null,
   "metadata": {},
   "outputs": [],
   "source": [
    "cadf = df[df.res_state == 'CA']"
   ]
  },
  {
   "cell_type": "code",
   "execution_count": 7,
   "metadata": {},
   "outputs": [
    {
     "data": {
      "text/html": [
       "<div>\n",
       "<style scoped>\n",
       "    .dataframe tbody tr th:only-of-type {\n",
       "        vertical-align: middle;\n",
       "    }\n",
       "\n",
       "    .dataframe tbody tr th {\n",
       "        vertical-align: top;\n",
       "    }\n",
       "\n",
       "    .dataframe thead th {\n",
       "        text-align: right;\n",
       "    }\n",
       "</style>\n",
       "<table border=\"1\" class=\"dataframe\">\n",
       "  <thead>\n",
       "    <tr style=\"text-align: right;\">\n",
       "      <th></th>\n",
       "      <th>abdom_yn</th>\n",
       "      <th>abxchest_yn</th>\n",
       "      <th>acuterespdistress_yn</th>\n",
       "      <th>age_group</th>\n",
       "      <th>cdc_case_earliest_dt</th>\n",
       "      <th>cdc_report_dt</th>\n",
       "      <th>chills_yn</th>\n",
       "      <th>county_fips_code</th>\n",
       "      <th>cough_yn</th>\n",
       "      <th>current_status</th>\n",
       "      <th>...</th>\n",
       "      <th>onset_dt</th>\n",
       "      <th>pna_yn</th>\n",
       "      <th>pos_spec_dt</th>\n",
       "      <th>race_ethnicity_combined</th>\n",
       "      <th>res_county</th>\n",
       "      <th>res_state</th>\n",
       "      <th>runnose_yn</th>\n",
       "      <th>sex</th>\n",
       "      <th>sob_yn</th>\n",
       "      <th>sthroat_yn</th>\n",
       "    </tr>\n",
       "  </thead>\n",
       "  <tbody>\n",
       "    <tr>\n",
       "      <th>0</th>\n",
       "      <td>Missing</td>\n",
       "      <td>Missing</td>\n",
       "      <td>Missing</td>\n",
       "      <td>10 - 19 Years</td>\n",
       "      <td>2021-02-06</td>\n",
       "      <td>2021-02-06</td>\n",
       "      <td>Missing</td>\n",
       "      <td>45001</td>\n",
       "      <td>Missing</td>\n",
       "      <td>Laboratory-confirmed case</td>\n",
       "      <td>...</td>\n",
       "      <td>None</td>\n",
       "      <td>Missing</td>\n",
       "      <td>None</td>\n",
       "      <td>Unknown</td>\n",
       "      <td>ABBEVILLE</td>\n",
       "      <td>SC</td>\n",
       "      <td>Missing</td>\n",
       "      <td>Female</td>\n",
       "      <td>Missing</td>\n",
       "      <td>Missing</td>\n",
       "    </tr>\n",
       "    <tr>\n",
       "      <th>1</th>\n",
       "      <td>Missing</td>\n",
       "      <td>Missing</td>\n",
       "      <td>Missing</td>\n",
       "      <td>10 - 19 Years</td>\n",
       "      <td>2021-01-28</td>\n",
       "      <td>2021-01-28</td>\n",
       "      <td>Missing</td>\n",
       "      <td>45001</td>\n",
       "      <td>Missing</td>\n",
       "      <td>Laboratory-confirmed case</td>\n",
       "      <td>...</td>\n",
       "      <td>None</td>\n",
       "      <td>Missing</td>\n",
       "      <td>None</td>\n",
       "      <td>Unknown</td>\n",
       "      <td>ABBEVILLE</td>\n",
       "      <td>SC</td>\n",
       "      <td>Missing</td>\n",
       "      <td>Female</td>\n",
       "      <td>Missing</td>\n",
       "      <td>Missing</td>\n",
       "    </tr>\n",
       "    <tr>\n",
       "      <th>2</th>\n",
       "      <td>Missing</td>\n",
       "      <td>Missing</td>\n",
       "      <td>Missing</td>\n",
       "      <td>10 - 19 Years</td>\n",
       "      <td>2021-01-19</td>\n",
       "      <td>2021-01-19</td>\n",
       "      <td>Missing</td>\n",
       "      <td>45001</td>\n",
       "      <td>Missing</td>\n",
       "      <td>Laboratory-confirmed case</td>\n",
       "      <td>...</td>\n",
       "      <td>None</td>\n",
       "      <td>Missing</td>\n",
       "      <td>None</td>\n",
       "      <td>Unknown</td>\n",
       "      <td>ABBEVILLE</td>\n",
       "      <td>SC</td>\n",
       "      <td>Missing</td>\n",
       "      <td>Female</td>\n",
       "      <td>Missing</td>\n",
       "      <td>Missing</td>\n",
       "    </tr>\n",
       "    <tr>\n",
       "      <th>3</th>\n",
       "      <td>Missing</td>\n",
       "      <td>Missing</td>\n",
       "      <td>Missing</td>\n",
       "      <td>10 - 19 Years</td>\n",
       "      <td>2021-01-07</td>\n",
       "      <td>2021-01-07</td>\n",
       "      <td>Missing</td>\n",
       "      <td>45001</td>\n",
       "      <td>Missing</td>\n",
       "      <td>Laboratory-confirmed case</td>\n",
       "      <td>...</td>\n",
       "      <td>None</td>\n",
       "      <td>Missing</td>\n",
       "      <td>None</td>\n",
       "      <td>Unknown</td>\n",
       "      <td>ABBEVILLE</td>\n",
       "      <td>SC</td>\n",
       "      <td>Missing</td>\n",
       "      <td>Female</td>\n",
       "      <td>Missing</td>\n",
       "      <td>Missing</td>\n",
       "    </tr>\n",
       "    <tr>\n",
       "      <th>4</th>\n",
       "      <td>Missing</td>\n",
       "      <td>Missing</td>\n",
       "      <td>Missing</td>\n",
       "      <td>10 - 19 Years</td>\n",
       "      <td>2020-07-20</td>\n",
       "      <td>2020-07-20</td>\n",
       "      <td>Missing</td>\n",
       "      <td>45001</td>\n",
       "      <td>Missing</td>\n",
       "      <td>Laboratory-confirmed case</td>\n",
       "      <td>...</td>\n",
       "      <td>None</td>\n",
       "      <td>Missing</td>\n",
       "      <td>None</td>\n",
       "      <td>Unknown</td>\n",
       "      <td>ABBEVILLE</td>\n",
       "      <td>SC</td>\n",
       "      <td>Missing</td>\n",
       "      <td>Female</td>\n",
       "      <td>Missing</td>\n",
       "      <td>Missing</td>\n",
       "    </tr>\n",
       "    <tr>\n",
       "      <th>...</th>\n",
       "      <td>...</td>\n",
       "      <td>...</td>\n",
       "      <td>...</td>\n",
       "      <td>...</td>\n",
       "      <td>...</td>\n",
       "      <td>...</td>\n",
       "      <td>...</td>\n",
       "      <td>...</td>\n",
       "      <td>...</td>\n",
       "      <td>...</td>\n",
       "      <td>...</td>\n",
       "      <td>...</td>\n",
       "      <td>...</td>\n",
       "      <td>...</td>\n",
       "      <td>...</td>\n",
       "      <td>...</td>\n",
       "      <td>...</td>\n",
       "      <td>...</td>\n",
       "      <td>...</td>\n",
       "      <td>...</td>\n",
       "      <td>...</td>\n",
       "    </tr>\n",
       "    <tr>\n",
       "      <th>25120917</th>\n",
       "      <td>Missing</td>\n",
       "      <td>Missing</td>\n",
       "      <td>Missing</td>\n",
       "      <td>20 - 29 Years</td>\n",
       "      <td>2020-12-01</td>\n",
       "      <td>2020-12-01</td>\n",
       "      <td>Missing</td>\n",
       "      <td>46137</td>\n",
       "      <td>Missing</td>\n",
       "      <td>Laboratory-confirmed case</td>\n",
       "      <td>...</td>\n",
       "      <td>None</td>\n",
       "      <td>Missing</td>\n",
       "      <td>None</td>\n",
       "      <td>American Indian/Alaska Native, Non-Hispanic</td>\n",
       "      <td>ZIEBACH</td>\n",
       "      <td>SD</td>\n",
       "      <td>Missing</td>\n",
       "      <td>Female</td>\n",
       "      <td>Missing</td>\n",
       "      <td>Missing</td>\n",
       "    </tr>\n",
       "    <tr>\n",
       "      <th>25120918</th>\n",
       "      <td>Missing</td>\n",
       "      <td>Missing</td>\n",
       "      <td>Missing</td>\n",
       "      <td>20 - 29 Years</td>\n",
       "      <td>2020-10-20</td>\n",
       "      <td>2021-01-06</td>\n",
       "      <td>Missing</td>\n",
       "      <td>46137</td>\n",
       "      <td>Missing</td>\n",
       "      <td>Laboratory-confirmed case</td>\n",
       "      <td>...</td>\n",
       "      <td>2020-10-20</td>\n",
       "      <td>Missing</td>\n",
       "      <td>None</td>\n",
       "      <td>American Indian/Alaska Native, Non-Hispanic</td>\n",
       "      <td>ZIEBACH</td>\n",
       "      <td>SD</td>\n",
       "      <td>Missing</td>\n",
       "      <td>Female</td>\n",
       "      <td>Missing</td>\n",
       "      <td>Missing</td>\n",
       "    </tr>\n",
       "    <tr>\n",
       "      <th>25120919</th>\n",
       "      <td>Missing</td>\n",
       "      <td>Missing</td>\n",
       "      <td>Missing</td>\n",
       "      <td>20 - 29 Years</td>\n",
       "      <td>2020-07-27</td>\n",
       "      <td>2020-12-01</td>\n",
       "      <td>Missing</td>\n",
       "      <td>46137</td>\n",
       "      <td>Missing</td>\n",
       "      <td>Laboratory-confirmed case</td>\n",
       "      <td>...</td>\n",
       "      <td>2020-07-27</td>\n",
       "      <td>Missing</td>\n",
       "      <td>None</td>\n",
       "      <td>American Indian/Alaska Native, Non-Hispanic</td>\n",
       "      <td>ZIEBACH</td>\n",
       "      <td>SD</td>\n",
       "      <td>Missing</td>\n",
       "      <td>Female</td>\n",
       "      <td>Missing</td>\n",
       "      <td>Missing</td>\n",
       "    </tr>\n",
       "    <tr>\n",
       "      <th>25120920</th>\n",
       "      <td>Missing</td>\n",
       "      <td>Missing</td>\n",
       "      <td>Missing</td>\n",
       "      <td>20 - 29 Years</td>\n",
       "      <td>2020-07-25</td>\n",
       "      <td>2020-12-01</td>\n",
       "      <td>Missing</td>\n",
       "      <td>46137</td>\n",
       "      <td>Missing</td>\n",
       "      <td>Laboratory-confirmed case</td>\n",
       "      <td>...</td>\n",
       "      <td>2020-07-25</td>\n",
       "      <td>Missing</td>\n",
       "      <td>None</td>\n",
       "      <td>American Indian/Alaska Native, Non-Hispanic</td>\n",
       "      <td>ZIEBACH</td>\n",
       "      <td>SD</td>\n",
       "      <td>Missing</td>\n",
       "      <td>Female</td>\n",
       "      <td>Missing</td>\n",
       "      <td>Missing</td>\n",
       "    </tr>\n",
       "    <tr>\n",
       "      <th>25120921</th>\n",
       "      <td>Missing</td>\n",
       "      <td>Missing</td>\n",
       "      <td>Missing</td>\n",
       "      <td>20 - 29 Years</td>\n",
       "      <td>2020-11-06</td>\n",
       "      <td>2021-01-06</td>\n",
       "      <td>Missing</td>\n",
       "      <td>46137</td>\n",
       "      <td>Missing</td>\n",
       "      <td>Laboratory-confirmed case</td>\n",
       "      <td>...</td>\n",
       "      <td>2020-11-06</td>\n",
       "      <td>Missing</td>\n",
       "      <td>None</td>\n",
       "      <td>American Indian/Alaska Native, Non-Hispanic</td>\n",
       "      <td>ZIEBACH</td>\n",
       "      <td>SD</td>\n",
       "      <td>Missing</td>\n",
       "      <td>Female</td>\n",
       "      <td>Missing</td>\n",
       "      <td>Missing</td>\n",
       "    </tr>\n",
       "  </tbody>\n",
       "</table>\n",
       "<p>25120922 rows × 32 columns</p>\n",
       "</div>"
      ],
      "text/plain": [
       "         abdom_yn abxchest_yn acuterespdistress_yn      age_group  \\\n",
       "0         Missing     Missing              Missing  10 - 19 Years   \n",
       "1         Missing     Missing              Missing  10 - 19 Years   \n",
       "2         Missing     Missing              Missing  10 - 19 Years   \n",
       "3         Missing     Missing              Missing  10 - 19 Years   \n",
       "4         Missing     Missing              Missing  10 - 19 Years   \n",
       "...           ...         ...                  ...            ...   \n",
       "25120917  Missing     Missing              Missing  20 - 29 Years   \n",
       "25120918  Missing     Missing              Missing  20 - 29 Years   \n",
       "25120919  Missing     Missing              Missing  20 - 29 Years   \n",
       "25120920  Missing     Missing              Missing  20 - 29 Years   \n",
       "25120921  Missing     Missing              Missing  20 - 29 Years   \n",
       "\n",
       "         cdc_case_earliest_dt cdc_report_dt chills_yn county_fips_code  \\\n",
       "0                  2021-02-06    2021-02-06   Missing            45001   \n",
       "1                  2021-01-28    2021-01-28   Missing            45001   \n",
       "2                  2021-01-19    2021-01-19   Missing            45001   \n",
       "3                  2021-01-07    2021-01-07   Missing            45001   \n",
       "4                  2020-07-20    2020-07-20   Missing            45001   \n",
       "...                       ...           ...       ...              ...   \n",
       "25120917           2020-12-01    2020-12-01   Missing            46137   \n",
       "25120918           2020-10-20    2021-01-06   Missing            46137   \n",
       "25120919           2020-07-27    2020-12-01   Missing            46137   \n",
       "25120920           2020-07-25    2020-12-01   Missing            46137   \n",
       "25120921           2020-11-06    2021-01-06   Missing            46137   \n",
       "\n",
       "         cough_yn             current_status  ...    onset_dt   pna_yn  \\\n",
       "0         Missing  Laboratory-confirmed case  ...        None  Missing   \n",
       "1         Missing  Laboratory-confirmed case  ...        None  Missing   \n",
       "2         Missing  Laboratory-confirmed case  ...        None  Missing   \n",
       "3         Missing  Laboratory-confirmed case  ...        None  Missing   \n",
       "4         Missing  Laboratory-confirmed case  ...        None  Missing   \n",
       "...           ...                        ...  ...         ...      ...   \n",
       "25120917  Missing  Laboratory-confirmed case  ...        None  Missing   \n",
       "25120918  Missing  Laboratory-confirmed case  ...  2020-10-20  Missing   \n",
       "25120919  Missing  Laboratory-confirmed case  ...  2020-07-27  Missing   \n",
       "25120920  Missing  Laboratory-confirmed case  ...  2020-07-25  Missing   \n",
       "25120921  Missing  Laboratory-confirmed case  ...  2020-11-06  Missing   \n",
       "\n",
       "         pos_spec_dt                      race_ethnicity_combined res_county  \\\n",
       "0               None                                      Unknown  ABBEVILLE   \n",
       "1               None                                      Unknown  ABBEVILLE   \n",
       "2               None                                      Unknown  ABBEVILLE   \n",
       "3               None                                      Unknown  ABBEVILLE   \n",
       "4               None                                      Unknown  ABBEVILLE   \n",
       "...              ...                                          ...        ...   \n",
       "25120917        None  American Indian/Alaska Native, Non-Hispanic    ZIEBACH   \n",
       "25120918        None  American Indian/Alaska Native, Non-Hispanic    ZIEBACH   \n",
       "25120919        None  American Indian/Alaska Native, Non-Hispanic    ZIEBACH   \n",
       "25120920        None  American Indian/Alaska Native, Non-Hispanic    ZIEBACH   \n",
       "25120921        None  American Indian/Alaska Native, Non-Hispanic    ZIEBACH   \n",
       "\n",
       "         res_state runnose_yn     sex   sob_yn sthroat_yn  \n",
       "0               SC    Missing  Female  Missing    Missing  \n",
       "1               SC    Missing  Female  Missing    Missing  \n",
       "2               SC    Missing  Female  Missing    Missing  \n",
       "3               SC    Missing  Female  Missing    Missing  \n",
       "4               SC    Missing  Female  Missing    Missing  \n",
       "...            ...        ...     ...      ...        ...  \n",
       "25120917        SD    Missing  Female  Missing    Missing  \n",
       "25120918        SD    Missing  Female  Missing    Missing  \n",
       "25120919        SD    Missing  Female  Missing    Missing  \n",
       "25120920        SD    Missing  Female  Missing    Missing  \n",
       "25120921        SD    Missing  Female  Missing    Missing  \n",
       "\n",
       "[25120922 rows x 32 columns]"
      ]
     },
     "execution_count": 7,
     "metadata": {},
     "output_type": "execute_result"
    }
   ],
   "source": [
    "df"
   ]
  },
  {
   "cell_type": "code",
   "execution_count": null,
   "metadata": {},
   "outputs": [],
   "source": []
  },
  {
   "cell_type": "code",
   "execution_count": null,
   "metadata": {},
   "outputs": [],
   "source": [
    "#dropping values with unknown death values\n",
    "df_death = df.loc[(df['death_yn'] == \"No\") | (df['death_yn'] == \"Yes\")]\n",
    "df_death"
   ]
  },
  {
   "cell_type": "code",
   "execution_count": 6,
   "metadata": {},
   "outputs": [],
   "source": [
    "properdf = df[df.death_yn != \"Missing\"]"
   ]
  },
  {
   "cell_type": "code",
   "execution_count": 6,
   "metadata": {},
   "outputs": [
    {
     "data": {
      "text/plain": [
       "array(['No', 'Yes', 'Unknown'], dtype=object)"
      ]
     },
     "execution_count": 6,
     "metadata": {},
     "output_type": "execute_result"
    }
   ],
   "source": [
    "properdf['death_yn'].unique()"
   ]
  },
  {
   "cell_type": "code",
   "execution_count": null,
   "metadata": {},
   "outputs": [],
   "source": [
    "properdf1 = properdf[properdf.death_yn != 'Unknown']"
   ]
  },
  {
   "cell_type": "code",
   "execution_count": 7,
   "metadata": {},
   "outputs": [
    {
     "ename": "NameError",
     "evalue": "name 'properdf1' is not defined",
     "output_type": "error",
     "traceback": [
      "\u001b[0;31m---------------------------------------------------------------------------\u001b[0m",
      "\u001b[0;31mNameError\u001b[0m                                 Traceback (most recent call last)",
      "\u001b[0;32m<ipython-input-7-699a703cfa9e>\u001b[0m in \u001b[0;36m<module>\u001b[0;34m\u001b[0m\n\u001b[0;32m----> 1\u001b[0;31m \u001b[0mproperdf1\u001b[0m\u001b[0;34m[\u001b[0m\u001b[0;34m'death_yn'\u001b[0m\u001b[0;34m]\u001b[0m\u001b[0;34m.\u001b[0m\u001b[0munique\u001b[0m\u001b[0;34m(\u001b[0m\u001b[0;34m)\u001b[0m\u001b[0;34m\u001b[0m\u001b[0;34m\u001b[0m\u001b[0m\n\u001b[0m\u001b[1;32m      2\u001b[0m \u001b[0mproperdf1\u001b[0m\u001b[0;34m\u001b[0m\u001b[0;34m\u001b[0m\u001b[0m\n",
      "\u001b[0;31mNameError\u001b[0m: name 'properdf1' is not defined"
     ]
    }
   ],
   "source": [
    "properdf1['death_yn'].unique()\n",
    "properdf1"
   ]
  },
  {
   "cell_type": "code",
   "execution_count": 9,
   "metadata": {},
   "outputs": [],
   "source": [
    "deathdf = properdf1['death_yn']"
   ]
  },
  {
   "cell_type": "code",
   "execution_count": 12,
   "metadata": {},
   "outputs": [
    {
     "data": {
      "text/plain": [
       "Text(0, 0.5, 'Death')"
      ]
     },
     "execution_count": 12,
     "metadata": {},
     "output_type": "execute_result"
    },
    {
     "data": {
      "image/png": "[encoded data removed]",
      "text/plain": [
       "<Figure size 432x288 with 1 Axes>"
      ]
     },
     "metadata": {},
     "output_type": "display_data"
    }
   ],
   "source": [
    "import seaborn as sns\n",
    "import matplotlib.pyplot as plt\n",
    "sns.set(style=\"darkgrid\")\n",
    "sns.countplot(y = 'death_yn', data= properdf1)\n",
    "plt.title('Deaths from Covid')\n",
    "plt.xlabel('Diagnosed with Covid')\n",
    "plt.ylabel('Death')"
   ]
  },
  {
   "cell_type": "code",
   "execution_count": 3,
   "metadata": {},
   "outputs": [
    {
     "ename": "NameError",
     "evalue": "name 'properdf' is not defined",
     "output_type": "error",
     "traceback": [
      "\u001b[0;31m---------------------------------------------------------------------------\u001b[0m",
      "\u001b[0;31mNameError\u001b[0m                                 Traceback (most recent call last)",
      "\u001b[0;32m<ipython-input-3-e26d4ff32540>\u001b[0m in \u001b[0;36m<module>\u001b[0;34m\u001b[0m\n\u001b[1;32m      2\u001b[0m \u001b[0;32mimport\u001b[0m \u001b[0mseaborn\u001b[0m \u001b[0;32mas\u001b[0m \u001b[0msns\u001b[0m\u001b[0;34m\u001b[0m\u001b[0;34m\u001b[0m\u001b[0m\n\u001b[1;32m      3\u001b[0m \u001b[0mplt\u001b[0m\u001b[0;34m.\u001b[0m\u001b[0mfigure\u001b[0m\u001b[0;34m(\u001b[0m\u001b[0mfigsize\u001b[0m \u001b[0;34m=\u001b[0m \u001b[0;34m(\u001b[0m\u001b[0;36m12\u001b[0m\u001b[0;34m,\u001b[0m\u001b[0;36m12\u001b[0m\u001b[0;34m)\u001b[0m\u001b[0;34m)\u001b[0m\u001b[0;34m\u001b[0m\u001b[0;34m\u001b[0m\u001b[0m\n\u001b[0;32m----> 4\u001b[0;31m \u001b[0msns\u001b[0m\u001b[0;34m.\u001b[0m\u001b[0mheatmap\u001b[0m\u001b[0;34m(\u001b[0m\u001b[0mproperdf\u001b[0m\u001b[0;34m.\u001b[0m\u001b[0mcorr\u001b[0m\u001b[0;34m(\u001b[0m\u001b[0;34m)\u001b[0m\u001b[0;34m,\u001b[0m\u001b[0mannot\u001b[0m\u001b[0;34m=\u001b[0m\u001b[0;32mTrue\u001b[0m\u001b[0;34m)\u001b[0m\u001b[0;34m\u001b[0m\u001b[0;34m\u001b[0m\u001b[0m\n\u001b[0m",
      "\u001b[0;31mNameError\u001b[0m: name 'properdf' is not defined"
     ]
    },
    {
     "data": {
      "text/plain": [
       "<Figure size 864x864 with 0 Axes>"
      ]
     },
     "metadata": {},
     "output_type": "display_data"
    }
   ],
   "source": [
    "import matplotlib.pyplot as plt\n",
    "import seaborn as sns\n",
    "plt.figure(figsize = (12,12))\n",
    "sns.heatmap(properdf.corr(),annot=True)"
   ]
  },
  {
   "cell_type": "code",
   "execution_count": null,
   "metadata": {},
   "outputs": [],
   "source": [
    "yy = properdf1.groupby(by = ['age_group', 'death_yn']).sum()\n",
    "yy"
   ]
  },
  {
   "cell_type": "code",
   "execution_count": 29,
   "metadata": {},
   "outputs": [
    {
     "ename": "ModuleNotFoundError",
     "evalue": "No module named 'plotly'",
     "output_type": "error",
     "traceback": [
      "\u001b[0;31m---------------------------------------------------------------------------\u001b[0m",
      "\u001b[0;31mModuleNotFoundError\u001b[0m                       Traceback (most recent call last)",
      "\u001b[0;32m<ipython-input-29-2971cc2a51a5>\u001b[0m in \u001b[0;36m<module>\u001b[0;34m\u001b[0m\n\u001b[0;32m----> 1\u001b[0;31m \u001b[0;32mimport\u001b[0m \u001b[0mplotly\u001b[0m\u001b[0;34m.\u001b[0m\u001b[0moffline\u001b[0m \u001b[0;32mas\u001b[0m \u001b[0mpy\u001b[0m\u001b[0;34m\u001b[0m\u001b[0;34m\u001b[0m\u001b[0m\n\u001b[0m\u001b[1;32m      2\u001b[0m \u001b[0;32mimport\u001b[0m \u001b[0mplotly\u001b[0m\u001b[0;34m.\u001b[0m\u001b[0mexpress\u001b[0m \u001b[0;32mas\u001b[0m \u001b[0mpx\u001b[0m\u001b[0;34m\u001b[0m\u001b[0;34m\u001b[0m\u001b[0m\n\u001b[1;32m      3\u001b[0m \u001b[0mpx\u001b[0m\u001b[0;34m.\u001b[0m\u001b[0mhistogram\u001b[0m\u001b[0;34m(\u001b[0m\u001b[0mproperdf1\u001b[0m\u001b[0;34m,\u001b[0m \u001b[0mx\u001b[0m \u001b[0;34m=\u001b[0m \u001b[0;34m'death_yn'\u001b[0m\u001b[0;34m,\u001b[0m \u001b[0mtitle\u001b[0m \u001b[0;34m=\u001b[0m \u001b[0;34m'Price Distribution'\u001b[0m\u001b[0;34m)\u001b[0m\u001b[0;34m\u001b[0m\u001b[0;34m\u001b[0m\u001b[0m\n",
      "\u001b[0;31mModuleNotFoundError\u001b[0m: No module named 'plotly'"
     ]
    }
   ],
   "source": [
    "fig = plt.subplots(figsize =(10, 7))\n",
    "p1 = plt.bar(properdf1['death_yn'], properdf1['age_group'], width, yerr = boyStd)\n",
    "p2 = plt.bar(ind, girls, width,\n",
    "             bottom = boys, yerr = girlStd)\n",
    " \n",
    "plt.ylabel('Contribution')\n",
    "plt.title('Contribution by the teams')\n",
    "plt.xticks(ind, ('T1', 'T2', 'T3', 'T4', 'T5'))\n",
    "plt.yticks(np.arange(0, 81, 10))\n",
    "plt.legend((p1[0], p2[0]), ('boys', 'girls'))\n",
    " \n",
    "plt.show()\n"
   ]
  },
  {
   "cell_type": "code",
   "execution_count": null,
   "metadata": {},
   "outputs": [],
   "source": []
  },
  {
   "cell_type": "code",
   "execution_count": null,
   "metadata": {},
   "outputs": [],
   "source": [
    "sns.catplot(x='age_group', y='death_yn', data = properdf1, hue='death_yn')\n",
    "plt.title('Distribution of Listings by Borough and Days of Availability')\n",
    "plt.xlabel('death_yn')\n",
    "plt.ylabel('age_group')"
   ]
  },
  {
   "cell_type": "code",
   "execution_count": 10,
   "metadata": {},
   "outputs": [
    {
     "data": {
      "text/plain": [
       "16           No\n",
       "58           No\n",
       "59           No\n",
       "60           No\n",
       "62           No\n",
       "           ... \n",
       "25120871     No\n",
       "25120885     No\n",
       "25120890     No\n",
       "25120901     No\n",
       "25120903    Yes\n",
       "Name: death_yn, Length: 13044652, dtype: object"
      ]
     },
     "execution_count": 10,
     "metadata": {},
     "output_type": "execute_result"
    }
   ],
   "source": [
    "deathdf"
   ]
  },
  {
   "cell_type": "code",
   "execution_count": 23,
   "metadata": {},
   "outputs": [
    {
     "data": {
      "text/plain": [
       "20 - 29 Years    2389262\n",
       "30 - 39 Years    2087599\n",
       "40 - 49 Years    1901263\n",
       "50 - 59 Years    1858530\n",
       "10 - 19 Years    1473837\n",
       "60 - 69 Years    1326738\n",
       "70 - 79 Years     750986\n",
       "0 - 9 Years       637046\n",
       "80+ Years         586841\n",
       "NA                 18600\n",
       "Missing            13950\n",
       "Name: age_group, dtype: int64"
      ]
     },
     "execution_count": 23,
     "metadata": {},
     "output_type": "execute_result"
    }
   ],
   "source": [
    "properdf1['age_group'].value_counts()"
   ]
  },
  {
   "cell_type": "code",
   "execution_count": 11,
   "metadata": {},
   "outputs": [],
   "source": [
    "properdf2 = df[df.age_group != \"Missing\"]"
   ]
  },
  {
   "cell_type": "code",
   "execution_count": 12,
   "metadata": {},
   "outputs": [],
   "source": [
    "properdf3 = properdf2[properdf2.age_group != 'NA']"
   ]
  },
  {
   "cell_type": "code",
   "execution_count": 14,
   "metadata": {},
   "outputs": [
    {
     "data": {
      "text/plain": [
       "20 - 29 Years    4685863\n",
       "30 - 39 Years    4087629\n",
       "40 - 49 Years    3705115\n",
       "50 - 59 Years    3606012\n",
       "10 - 19 Years    2774354\n",
       "60 - 69 Years    2532209\n",
       "70 - 79 Years    1375528\n",
       "0 - 9 Years      1169698\n",
       "80+ Years         969136\n",
       "Name: age_group, dtype: int64"
      ]
     },
     "execution_count": 14,
     "metadata": {},
     "output_type": "execute_result"
    }
   ],
   "source": [
    "properdf3['age_group'].value_counts()"
   ]
  },
  {
   "cell_type": "code",
   "execution_count": 15,
   "metadata": {},
   "outputs": [],
   "source": [
    "age_groupdf = properdf3['age_group']"
   ]
  },
  {
   "cell_type": "code",
   "execution_count": 8,
   "metadata": {
    "scrolled": true
   },
   "outputs": [
    {
     "data": {
      "text/plain": [
       "datetime.date(2021, 4, 26)"
      ]
     },
     "execution_count": 8,
     "metadata": {},
     "output_type": "execute_result"
    }
   ],
   "source": [
    "max(df[\"cdc_case_earliest_dt\"])"
   ]
  },
  {
   "cell_type": "code",
   "execution_count": 16,
   "metadata": {},
   "outputs": [],
   "source": [
    "agedeath = pd.concat([deathdf, age_groupdf], ignore_index=True)"
   ]
  },
  {
   "cell_type": "code",
   "execution_count": 20,
   "metadata": {},
   "outputs": [
    {
     "data": {
      "text/plain": [
       "No               12584438\n",
       "20 - 29 Years     4685863\n",
       "30 - 39 Years     4087629\n",
       "40 - 49 Years     3705115\n",
       "50 - 59 Years     3606012\n",
       "10 - 19 Years     2774354\n",
       "60 - 69 Years     2532209\n",
       "70 - 79 Years     1375528\n",
       "0 - 9 Years       1169698\n",
       "80+ Years          969136\n",
       "Yes                460214\n",
       "dtype: int64"
      ]
     },
     "execution_count": 20,
     "metadata": {},
     "output_type": "execute_result"
    }
   ],
   "source": [
    "agedeath.value_counts()"
   ]
  },
  {
   "cell_type": "code",
   "execution_count": 9,
   "metadata": {},
   "outputs": [
    {
     "data": {
      "text/plain": [
       "datetime.date(2020, 1, 1)"
      ]
     },
     "execution_count": 9,
     "metadata": {},
     "output_type": "execute_result"
    }
   ],
   "source": [
    "min(df[\"cdc_case_earliest_dt\"])"
   ]
  },
  {
   "cell_type": "code",
   "execution_count": 10,
   "metadata": {},
   "outputs": [
    {
     "data": {
      "text/plain": [
       "datetime.date(2020, 1, 1)"
      ]
     },
     "execution_count": 10,
     "metadata": {},
     "output_type": "execute_result"
    }
   ],
   "source": [
    "min(df2[\"cdc_case_earliest_dt\"])"
   ]
  },
  {
   "cell_type": "code",
   "execution_count": 11,
   "metadata": {},
   "outputs": [
    {
     "data": {
      "text/plain": [
       "datetime.date(2021, 4, 26)"
      ]
     },
     "execution_count": 11,
     "metadata": {},
     "output_type": "execute_result"
    }
   ],
   "source": [
    "max(df2[\"cdc_case_earliest_dt\"])"
   ]
  },
  {
   "cell_type": "code",
   "execution_count": 12,
   "metadata": {},
   "outputs": [
    {
     "data": {
      "text/html": [
       "<div>\n",
       "<style scoped>\n",
       "    .dataframe tbody tr th:only-of-type {\n",
       "        vertical-align: middle;\n",
       "    }\n",
       "\n",
       "    .dataframe tbody tr th {\n",
       "        vertical-align: top;\n",
       "    }\n",
       "\n",
       "    .dataframe thead th {\n",
       "        text-align: right;\n",
       "    }\n",
       "</style>\n",
       "<table border=\"1\" class=\"dataframe\">\n",
       "  <thead>\n",
       "    <tr style=\"text-align: right;\">\n",
       "      <th></th>\n",
       "      <th>abdom_yn</th>\n",
       "      <th>abxchest_yn</th>\n",
       "      <th>acuterespdistress_yn</th>\n",
       "      <th>age_group</th>\n",
       "      <th>cdc_case_earliest_dt</th>\n",
       "      <th>cdc_report_dt</th>\n",
       "      <th>chills_yn</th>\n",
       "      <th>county_fips_code</th>\n",
       "      <th>cough_yn</th>\n",
       "      <th>current_status</th>\n",
       "      <th>...</th>\n",
       "      <th>onset_dt</th>\n",
       "      <th>pna_yn</th>\n",
       "      <th>pos_spec_dt</th>\n",
       "      <th>race_ethnicity_combined</th>\n",
       "      <th>res_county</th>\n",
       "      <th>res_state</th>\n",
       "      <th>runnose_yn</th>\n",
       "      <th>sex</th>\n",
       "      <th>sob_yn</th>\n",
       "      <th>sthroat_yn</th>\n",
       "    </tr>\n",
       "  </thead>\n",
       "  <tbody>\n",
       "    <tr>\n",
       "      <th>0</th>\n",
       "      <td>Missing</td>\n",
       "      <td>Missing</td>\n",
       "      <td>Missing</td>\n",
       "      <td>10 - 19 Years</td>\n",
       "      <td>2021-02-06</td>\n",
       "      <td>2021-02-06</td>\n",
       "      <td>Missing</td>\n",
       "      <td>45001</td>\n",
       "      <td>Missing</td>\n",
       "      <td>Laboratory-confirmed case</td>\n",
       "      <td>...</td>\n",
       "      <td>None</td>\n",
       "      <td>Missing</td>\n",
       "      <td>None</td>\n",
       "      <td>Unknown</td>\n",
       "      <td>ABBEVILLE</td>\n",
       "      <td>SC</td>\n",
       "      <td>Missing</td>\n",
       "      <td>Female</td>\n",
       "      <td>Missing</td>\n",
       "      <td>Missing</td>\n",
       "    </tr>\n",
       "    <tr>\n",
       "      <th>1</th>\n",
       "      <td>Missing</td>\n",
       "      <td>Missing</td>\n",
       "      <td>Missing</td>\n",
       "      <td>10 - 19 Years</td>\n",
       "      <td>2021-01-28</td>\n",
       "      <td>2021-01-28</td>\n",
       "      <td>Missing</td>\n",
       "      <td>45001</td>\n",
       "      <td>Missing</td>\n",
       "      <td>Laboratory-confirmed case</td>\n",
       "      <td>...</td>\n",
       "      <td>None</td>\n",
       "      <td>Missing</td>\n",
       "      <td>None</td>\n",
       "      <td>Unknown</td>\n",
       "      <td>ABBEVILLE</td>\n",
       "      <td>SC</td>\n",
       "      <td>Missing</td>\n",
       "      <td>Female</td>\n",
       "      <td>Missing</td>\n",
       "      <td>Missing</td>\n",
       "    </tr>\n",
       "    <tr>\n",
       "      <th>2</th>\n",
       "      <td>Missing</td>\n",
       "      <td>Missing</td>\n",
       "      <td>Missing</td>\n",
       "      <td>10 - 19 Years</td>\n",
       "      <td>2021-01-19</td>\n",
       "      <td>2021-01-19</td>\n",
       "      <td>Missing</td>\n",
       "      <td>45001</td>\n",
       "      <td>Missing</td>\n",
       "      <td>Laboratory-confirmed case</td>\n",
       "      <td>...</td>\n",
       "      <td>None</td>\n",
       "      <td>Missing</td>\n",
       "      <td>None</td>\n",
       "      <td>Unknown</td>\n",
       "      <td>ABBEVILLE</td>\n",
       "      <td>SC</td>\n",
       "      <td>Missing</td>\n",
       "      <td>Female</td>\n",
       "      <td>Missing</td>\n",
       "      <td>Missing</td>\n",
       "    </tr>\n",
       "    <tr>\n",
       "      <th>3</th>\n",
       "      <td>Missing</td>\n",
       "      <td>Missing</td>\n",
       "      <td>Missing</td>\n",
       "      <td>10 - 19 Years</td>\n",
       "      <td>2021-01-07</td>\n",
       "      <td>2021-01-07</td>\n",
       "      <td>Missing</td>\n",
       "      <td>45001</td>\n",
       "      <td>Missing</td>\n",
       "      <td>Laboratory-confirmed case</td>\n",
       "      <td>...</td>\n",
       "      <td>None</td>\n",
       "      <td>Missing</td>\n",
       "      <td>None</td>\n",
       "      <td>Unknown</td>\n",
       "      <td>ABBEVILLE</td>\n",
       "      <td>SC</td>\n",
       "      <td>Missing</td>\n",
       "      <td>Female</td>\n",
       "      <td>Missing</td>\n",
       "      <td>Missing</td>\n",
       "    </tr>\n",
       "    <tr>\n",
       "      <th>4</th>\n",
       "      <td>Missing</td>\n",
       "      <td>Missing</td>\n",
       "      <td>Missing</td>\n",
       "      <td>10 - 19 Years</td>\n",
       "      <td>2020-07-20</td>\n",
       "      <td>2020-07-20</td>\n",
       "      <td>Missing</td>\n",
       "      <td>45001</td>\n",
       "      <td>Missing</td>\n",
       "      <td>Laboratory-confirmed case</td>\n",
       "      <td>...</td>\n",
       "      <td>None</td>\n",
       "      <td>Missing</td>\n",
       "      <td>None</td>\n",
       "      <td>Unknown</td>\n",
       "      <td>ABBEVILLE</td>\n",
       "      <td>SC</td>\n",
       "      <td>Missing</td>\n",
       "      <td>Female</td>\n",
       "      <td>Missing</td>\n",
       "      <td>Missing</td>\n",
       "    </tr>\n",
       "  </tbody>\n",
       "</table>\n",
       "<p>5 rows × 32 columns</p>\n",
       "</div>"
      ],
      "text/plain": [
       "  abdom_yn abxchest_yn acuterespdistress_yn      age_group  \\\n",
       "0  Missing     Missing              Missing  10 - 19 Years   \n",
       "1  Missing     Missing              Missing  10 - 19 Years   \n",
       "2  Missing     Missing              Missing  10 - 19 Years   \n",
       "3  Missing     Missing              Missing  10 - 19 Years   \n",
       "4  Missing     Missing              Missing  10 - 19 Years   \n",
       "\n",
       "  cdc_case_earliest_dt cdc_report_dt chills_yn county_fips_code cough_yn  \\\n",
       "0           2021-02-06    2021-02-06   Missing            45001  Missing   \n",
       "1           2021-01-28    2021-01-28   Missing            45001  Missing   \n",
       "2           2021-01-19    2021-01-19   Missing            45001  Missing   \n",
       "3           2021-01-07    2021-01-07   Missing            45001  Missing   \n",
       "4           2020-07-20    2020-07-20   Missing            45001  Missing   \n",
       "\n",
       "              current_status  ... onset_dt   pna_yn pos_spec_dt  \\\n",
       "0  Laboratory-confirmed case  ...     None  Missing        None   \n",
       "1  Laboratory-confirmed case  ...     None  Missing        None   \n",
       "2  Laboratory-confirmed case  ...     None  Missing        None   \n",
       "3  Laboratory-confirmed case  ...     None  Missing        None   \n",
       "4  Laboratory-confirmed case  ...     None  Missing        None   \n",
       "\n",
       "  race_ethnicity_combined res_county res_state runnose_yn     sex   sob_yn  \\\n",
       "0                 Unknown  ABBEVILLE        SC    Missing  Female  Missing   \n",
       "1                 Unknown  ABBEVILLE        SC    Missing  Female  Missing   \n",
       "2                 Unknown  ABBEVILLE        SC    Missing  Female  Missing   \n",
       "3                 Unknown  ABBEVILLE        SC    Missing  Female  Missing   \n",
       "4                 Unknown  ABBEVILLE        SC    Missing  Female  Missing   \n",
       "\n",
       "  sthroat_yn  \n",
       "0    Missing  \n",
       "1    Missing  \n",
       "2    Missing  \n",
       "3    Missing  \n",
       "4    Missing  \n",
       "\n",
       "[5 rows x 32 columns]"
      ]
     },
     "execution_count": 12,
     "metadata": {},
     "output_type": "execute_result"
    }
   ],
   "source": [
    "df.head()"
   ]
  },
  {
   "cell_type": "code",
   "execution_count": 14,
   "metadata": {},
   "outputs": [
    {
     "data": {
      "text/plain": [
       "20 - 29 Years    2406398\n",
       "30 - 39 Years    2085093\n",
       "40 - 49 Years    1927095\n",
       "50 - 59 Years    1909442\n",
       "10 - 19 Years    1475594\n",
       "60 - 69 Years    1301819\n",
       "70 - 79 Years     688102\n",
       "0 - 9 Years       582757\n",
       "80+ Years         502850\n",
       "Missing            99203\n",
       "NA                 21647\n",
       "Name: age_group, dtype: int64"
      ]
     },
     "execution_count": 14,
     "metadata": {},
     "output_type": "execute_result"
    }
   ],
   "source": [
    "df['age_group'].value_counts()"
   ]
  },
  {
   "cell_type": "code",
   "execution_count": 15,
   "metadata": {},
   "outputs": [
    {
     "data": {
      "text/plain": [
       "abdom_yn                   object\n",
       "abxchest_yn                object\n",
       "acuterespdistress_yn       object\n",
       "age_group                  object\n",
       "cdc_case_earliest_dt       object\n",
       "cdc_report_dt              object\n",
       "chills_yn                  object\n",
       "county_fips_code           object\n",
       "cough_yn                   object\n",
       "current_status             object\n",
       "death_yn                   object\n",
       "diarrhea_yn                object\n",
       "fever_yn                   object\n",
       "sfever_yn                  object\n",
       "hc_work_yn                 object\n",
       "headache_yn                object\n",
       "hosp_yn                    object\n",
       "icu_yn                     object\n",
       "mechvent_yn                object\n",
       "medcond_yn                 object\n",
       "myalgia_yn                 object\n",
       "nauseavomit_yn             object\n",
       "onset_dt                   object\n",
       "pna_yn                     object\n",
       "pos_spec_dt                object\n",
       "race_ethnicity_combined    object\n",
       "res_county                 object\n",
       "res_state                  object\n",
       "runnose_yn                 object\n",
       "sex                        object\n",
       "sob_yn                     object\n",
       "sthroat_yn                 object\n",
       "dtype: object"
      ]
     },
     "execution_count": 15,
     "metadata": {},
     "output_type": "execute_result"
    }
   ],
   "source": [
    "df.dtypes"
   ]
  },
  {
   "cell_type": "code",
   "execution_count": null,
   "metadata": {},
   "outputs": [],
   "source": [
    "print(len(death))"
   ]
  },
  {
   "cell_type": "code",
   "execution_count": 26,
   "metadata": {},
   "outputs": [
    {
     "data": {
      "text/plain": [
       "array(['Unknown', 'Hispanic/Latino', 'White, Non-Hispanic',\n",
       "       'Black, Non-Hispanic', 'NA', 'Multiple/Other, Non-Hispanic',\n",
       "       'Missing', 'Asian, Non-Hispanic',\n",
       "       'American Indian/Alaska Native, Non-Hispanic',\n",
       "       'Native Hawaiian/Other Pacific Islander, Non-Hispanic'],\n",
       "      dtype=object)"
      ]
     },
     "execution_count": 26,
     "metadata": {},
     "output_type": "execute_result"
    }
   ],
   "source": [
    "df['race_ethnicity_combined'].unique()"
   ]
  },
  {
   "cell_type": "code",
   "execution_count": null,
   "metadata": {},
   "outputs": [],
   "source": [
    "df[df.death_yn != \"Missing\"]"
   ]
  },
  {
   "cell_type": "code",
   "execution_count": 41,
   "metadata": {},
   "outputs": [
    {
     "data": {
      "text/plain": [
       "False    8077954\n",
       "True     4922046\n",
       "Name: death_yn, dtype: int64"
      ]
     },
     "execution_count": 41,
     "metadata": {},
     "output_type": "execute_result"
    }
   ],
   "source": [
    "dd = death == 'Missing'\n",
    "dd.unique()\n",
    "dd.value_counts()\n"
   ]
  },
  {
   "cell_type": "code",
   "execution_count": 29,
   "metadata": {},
   "outputs": [
    {
     "data": {
      "text/plain": [
       "13000000"
      ]
     },
     "execution_count": 29,
     "metadata": {},
     "output_type": "execute_result"
    }
   ],
   "source": [
    "len(death)"
   ]
  },
  {
   "cell_type": "code",
   "execution_count": 30,
   "metadata": {},
   "outputs": [
    {
     "data": {
      "text/plain": [
       "13000000"
      ]
     },
     "execution_count": 30,
     "metadata": {},
     "output_type": "execute_result"
    }
   ],
   "source": [
    "len(deathdropped)"
   ]
  },
  {
   "cell_type": "code",
   "execution_count": 44,
   "metadata": {},
   "outputs": [
    {
     "data": {
      "text/plain": [
       "'Missing'"
      ]
     },
     "execution_count": 44,
     "metadata": {},
     "output_type": "execute_result"
    }
   ],
   "source": [
    "death[0]"
   ]
  },
  {
   "cell_type": "code",
   "execution_count": null,
   "metadata": {},
   "outputs": [],
   "source": []
  }
 ],
 "metadata": {
  "kernelspec": {
   "display_name": "Python 3",
   "language": "python",
   "name": "python3"
  },
  "language_info": {
   "codemirror_mode": {
    "name": "ipython",
    "version": 3
   },
   "file_extension": ".py",
   "mimetype": "text/x-python",
   "name": "python",
   "nbconvert_exporter": "python",
   "pygments_lexer": "ipython3",
   "version": "3.8.8"
  }
 },
 "nbformat": 4,
 "nbformat_minor": 4
}
